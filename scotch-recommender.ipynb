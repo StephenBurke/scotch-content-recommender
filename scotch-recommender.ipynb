{
 "cells": [
  {
   "cell_type": "code",
   "execution_count": 1,
   "id": "african-tomato",
   "metadata": {},
   "outputs": [],
   "source": [
    "# move this down\n",
    "import pandas as pd\n",
    "from sklearn.feature_extraction.text import TfidfVectorizer\n",
    "from sklearn.metrics.pairwise import linear_kernel \n",
    "ds = pd.read_csv('scotch_review.csv')"
   ]
  },
  {
   "cell_type": "code",
   "execution_count": 2,
   "id": "ambient-permit",
   "metadata": {},
   "outputs": [],
   "source": [
    "import requests\n",
    "from bs4 import BeautifulSoup\n",
    "import re\n",
    "import pickle"
   ]
  },
  {
   "cell_type": "code",
   "execution_count": 3,
   "id": "passive-canadian",
   "metadata": {},
   "outputs": [],
   "source": [
    "URL0 = 'https://flaviar.com/bottles/scotch'\n",
    "\n",
    "page0 = requests.get(URL0)\n",
    "\n",
    "soup0 = BeautifulSoup(page0.text, 'lxml')"
   ]
  },
  {
   "cell_type": "code",
   "execution_count": 4,
   "id": "suffering-serve",
   "metadata": {},
   "outputs": [],
   "source": [
    "# scraps website for bottle edition\n",
    "\n",
    "bottle_names = []\n",
    "bottle_editions = []\n",
    "bottle_types = []\n",
    "\n",
    "\n",
    "\n",
    "class0 = soup0.find('div', {'id': 'content', 'class': 'overflow-hidden'})\n",
    "class1 = class0.find('div', {'class': 'fullWidth pattern-bg sand-bg-mobile padding-top-50 padding-top-mobile-40 padding-bottom-50'})\n",
    "class2 = class1.find('div', {'class': 'container'})\n",
    "class3 = class2.find('div', {'class': 'row'})\n",
    "class4 = class3.find('div', {'class': 'col-md-12'})\n",
    "class5 = class4.find('div', {'id': 'previousboxes', 'class': 'row margin-left-0 margin-right-0 padding-left-mobile-10 padding-right-mobile-10 bottles'})\n",
    "class6 = class5.find('div', {'class': 'row'})\n",
    "class7 = class6.find_all('div', {'class': 'col-lg-3 col-md-4 col-sm-6'})\n",
    "\n",
    "\n",
    "for i in class7:\n",
    "    class8 = i.find('a', {'class': 'single-item bottle'})    \n",
    "    class9 = class8.find('div', {'class': 'holder'})\n",
    "    class10 = class9.find('div', {'class': 'about flex flex--space-between'})\n",
    "    class11 = class10.find('div', {'class': 'desc'})\n",
    "    bottle_name = class11.find('div', {'class': 'name'})\n",
    "    bottle_edition = class11.find('div', {'class': 'edition'})\n",
    "    bottle_type = class11.find('div', {'class': 'type'})\n",
    "    \n",
    "    bottle_names.append(bottle_name.text)\n",
    "    bottle_editions.append(bottle_edition.text)\n",
    "    bottle_types.append(bottle_type.text)\n",
    "    \n",
    "\n"
   ]
  },
  {
   "cell_type": "code",
   "execution_count": 5,
   "id": "entitled-somerset",
   "metadata": {},
   "outputs": [],
   "source": [
    "# Creates url for all editions in selected bottle type(s)\n",
    "# Type choosen when URL0 is defined\n",
    "\n",
    "url_editions = []\n",
    "BOTTLE_COUNT = len(bottle_editions)\n",
    "for n in range(BOTTLE_COUNT):\n",
    "    url_editions.append((str('https://flaviar.com/' + bottle_names[n] + '/' + bottle_editions[n]).replace(' ','-')))\n",
    "    "
   ]
  },
  {
   "cell_type": "code",
   "execution_count": 6,
   "id": "prostate-westminster",
   "metadata": {},
   "outputs": [
    {
     "name": "stdout",
     "output_type": "stream",
     "text": [
      "https://flaviar.com/The-Naked-Grouse/The-Naked-Grouse\n"
     ]
    }
   ],
   "source": [
    "print(url_editions[0])"
   ]
  },
  {
   "cell_type": "code",
   "execution_count": null,
   "id": "incorporate-glossary",
   "metadata": {},
   "outputs": [],
   "source": [
    "appearances = []\n",
    "noses = []\n",
    "palates = []\n",
    "finishes = []\n",
    "\n",
    "\n",
    "\n",
    "\n",
    "\n",
    "for url in range(len(url_editions)):\n",
    "    \n",
    "    \n",
    "    URL1 = url_editions[url]\n",
    "    \n",
    "    page1 = requests.get(URL1)\n",
    "\n",
    "    soup1 = BeautifulSoup(page1.text, 'lxml')\n",
    "    \n",
    "    \n",
    "    profile_class0 = soup1.find('div', {'id': 'content', 'class': 'overflow-hidden'})\n",
    "    profile_class1 = profile_class0.find('div', {'id': 'info', 'class': 'container'})\n",
    "    profile_class2 = profile_class1.find('div', {'class': 'row shrink flex flex--stretch margin-bottom-50 margin-bottom-mobile-0'})\n",
    "    profile_class3 = profile_class2.find('div', {'class': 'col-md-8 col-sm-12 col-xs-12 element info-description flex _flex-2 fit2EdgeOnMobile'})\n",
    "    profile_class4 = profile_class3.find('div', {'class': 'introduce pattern-bg equal moduleTabs collapsable-content-box'})\n",
    "    profile_class5 = profile_class4.find('id': 'tasting-notes','div', {'class': 'body collapse in more-body-padding'})\n",
    "    profile_class6 = profile_class5.find('div', {'class': 'p-content'})\n",
    "    \n",
    "    \n",
    "    \n",
    "    \n",
    "profiles = [p for p in profile_class6]\n",
    "\n",
    "\n",
    "print('As list:\\n', profiles)\n",
    "print()\n"
   ]
  },
  {
   "cell_type": "code",
   "execution_count": 24,
   "id": "powered-arlington",
   "metadata": {},
   "outputs": [
    {
     "name": "stdout",
     "output_type": "stream",
     "text": [
      "https://flaviar.com/The-Naked-Grouse/The-Naked-Grouse\n"
     ]
    }
   ],
   "source": [
    "#print(soup1)\n",
    "print(url_editions[0])\n",
    "#print(soup1.find('div', {'id': 'content', 'class': 'overflow-hidden'}))"
   ]
  },
  {
   "cell_type": "code",
   "execution_count": 25,
   "id": "indirect-valuable",
   "metadata": {},
   "outputs": [],
   "source": [
    "URL1 = url_editions[0]\n",
    "\n",
    "page1 = requests.get(URL1)\n",
    "\n",
    "soup1 = BeautifulSoup(page1.text, 'lxml')"
   ]
  },
  {
   "cell_type": "code",
   "execution_count": 46,
   "id": "sonic-charge",
   "metadata": {},
   "outputs": [
    {
     "name": "stdout",
     "output_type": "stream",
     "text": [
      "As object:\n",
      "\n",
      "\n",
      "Appearance / Color\n",
      "\n",
      "\tAmber\n",
      "\n",
      "\t \n",
      "\n",
      "Nose / Aroma / Smell\n",
      "\n",
      "\tSmooth sherry aroma followed by notes of buttered toast, malt, peach and custard.\n",
      "\n",
      "\t \n",
      "\n",
      "Flavor / Taste / Palate\n",
      "\n",
      "\tSherried palate with notes of toffee, sultanas, raspberry jam, custard and caramel.\n",
      "\n",
      "\t \n",
      "\n",
      "Finish\n",
      "\n",
      "\tMedium finish with noes of oak and cocoa.\n",
      "\n"
     ]
    }
   ],
   "source": [
    "profile_class0 = soup1.find('div', {'id': 'content', 'class': 'overflow-hidden'})\n",
    "profile_class1 = profile_class0.find('div', {'id': 'info', 'class': 'container'})\n",
    "profile_class2 = profile_class1.find('div', {'class': 'row shrink flex flex--stretch margin-bottom-50 margin-bottom-mobile-0'})\n",
    "profile_class3 = profile_class2.find('div', {'class': 'col-md-8 col-sm-12 col-xs-12 element info-description flex _flex-2 fit2EdgeOnMobile'})\n",
    "profile_class4 = profile_class3.find('div', {'class': 'introduce pattern-bg equal moduleTabs collapsable-content-box'})\n",
    "profile_class5 = profile_class4.find('div', {'id': 'tasting-notes', 'class': 'body collapse in more-body-padding'})\n",
    "profile_class6 = profile_class5.find('div', {'class': 'p-content'})\n",
    "#profile_class7 = profile_class6.find('div', {'strong': 'Appearance / Color'})\n",
    "\n",
    "#appearances.append(profile_class7.\n",
    "\n",
    "#dir()\n",
    "\n",
    "\n",
    "\n",
    "#print(appearances)\n",
    "\n",
    "print('As object:\\n'+ str(profile_class6.text))"
   ]
  },
  {
   "cell_type": "code",
   "execution_count": 51,
   "id": "monthly-humor",
   "metadata": {},
   "outputs": [
    {
     "name": "stdout",
     "output_type": "stream",
     "text": [
      "\n",
      "\n",
      "Appearance / Color\n",
      "\n",
      "\tAmber\n",
      "\n",
      "\t \n",
      "\n",
      "Nose / Aroma / Smell\n",
      "\n",
      "\tSmooth sherry aroma followed by notes of buttered toast, malt, peach and custard.\n",
      "\n",
      "\t \n",
      "\n",
      "Flavor / Taste / Palate\n",
      "\n",
      "\tSherried palate with notes of toffee, sultanas, raspberry jam, custard and caramel.\n",
      "\n",
      "\t \n",
      "\n",
      "Finish\n",
      "\n",
      "\tMedium finish with noes of oak and cocoa.\n",
      "\n",
      "['The Naked Grouse', 'Chivas Regal 12 Year Old', \"Dewar's White Label\", 'Johnnie Walker Gold Label Reserve', 'Glenfiddich 15 Year Old Solera Reserve', 'The Macallan 30 Year Old Sherry Oak', 'Aberlour 18 Year Old', 'Laphroaig 25 Year Old', 'Singleton of Dufftown 15 Year Old', 'Aberfeldy 12 Year Old', \"Glenmorangie Nectar D'Or\", 'Laphroaig 10 Year Old', 'The Glenlivet 18 Year Old', 'Bruichladdich The Classic Laddie Scottish Barley', 'Lagavulin Distillers Edition', \"Aberlour A'bunadh\", 'Highland Park 21 Year Old August 2019 Release', 'The Glenrothes 25 Year Old', 'Bruichladdich Bere Barley 2010', 'Singleton of Dufftown 18 Year Old', 'Glenfiddich Age of Discovery 19 Year Old Bourbon Cask Reserve', 'Tomatin 14 Year Old Port Wood Finish', 'Tullibardine Sovereign', 'Black Bull 12 Year Old', 'Tomintoul 25 Year Old', 'Craigellachie 17 Year Old', \"Dewar's 12 Year Old\", 'Dalwhinnie Distillers Edition', 'The Glenlivet 12 Year Old First Fill', 'AnCnoc Rascan', 'Glenfarclas 25 Year Old', 'Port Askaig 110° Proof', 'Chivas Regal Mizunara', 'Bunnahabhain Stiùireadair', 'Glengoyne Cask Strength Batch 4', 'Bowmore 15 Year Old', 'Wolfburn Northland', 'Aberlour 16 Year Old', 'Port Askaig 8 Year Old', 'Alexander Murray Monumental Blend 18 Year Old', 'Alexander Murray The Dalmore 15 Year Old 1999', 'Bruichladdich Port Charlotte 10 Year Old Heavily Peated', 'Compass Box The Spaniard', 'Lismore 21 Year Old', 'Highland Park Magnus', 'Highland Park Viking Honour 12 Year Old', 'Highland Park Viking Pride 18 Year Old', 'Highland Park The Dark 17 Year Old', 'The Glenrothes Bourbon Cask Reserve', 'Johnnie Walker 18 Year Old', 'The Glenrothes 10 Year Old', 'The Glenrothes 12 Year Old', \"The Glenrothes Whisky Maker's Cut\", 'The Glenrothes 18 Year Old', 'The Balvenie PortWood 21 Year Old', 'Game of Thrones House Tully Singleton of Glendullan Select', \"Game of Thrones House Stark Dalwhinnie Winter's Frost\", 'Game of Thrones House Targaryen Cardhu Gold Reserve', 'Game of Thrones House Lannister Lagavulin 9 Year Old', 'Game of Thrones House Greyjoy Talisker Select Reserve', \"Game of Thrones The Night's Watch Oban Bay Reserve\", 'Highland Park The Light 17 Year Old', 'The Macallan Classic Cut 2018 Limited Edition', 'The Macallan 12 Year Old Triple Cask Matured', 'The Macallan 18 Year Old Triple Cask Matured', 'Compass Box Juveniles Limited Edition', 'Glenmorangie Allta Private Edition No. 10', 'Glenmorangie Spìos Private Edition Single Malt', 'Bunnahabhain Toiteach a Dhà', 'Johnnie Walker Blue Label Ghost and Rare Port Ellen', \"Orphan Barrel Forager's Keep 26 Year Old\", \"Mackinlay's Shackleton Blended Malt Scotch Whisky\", 'The Balvenie The Week of Peat 14 Year Old', 'The Balvenie A Day of Dark Barley 26 Year Old', 'The Balvenie The Sweet Toast of American Oak 12 YO', 'The Glenlivet Enigma 4th Edition', 'Kilchoman STR', 'Highland Park Twisted Tattoo 16 Year Old', 'GlenAllachie 18 Year Old', 'The GlenAllachie 12 Year Old', 'GlenAllachie 10 Year Old Cask Strength Batch 1', 'Glenmorangie Quinta Ruban 14 Year Old', 'Wolfburn Morven', 'Wolfburn Langskip', 'Compass Box No Name No.2', 'Glenfiddich Grand Cru 23 Year Old', 'Johnnie Walker Blue Label Ghost and Rare Brora', 'Stronachie 10 Year Old', 'Royal Brackla 16 Years Old', 'The Macallan Edition No.5', 'Ardbeg Traigh Bhan 19 Year Old 2019 Edition', 'Mortlach 16 Year \"Distiller\\'s Dram\"', 'Mortlach 12 Year Old \"The Wee Witchie\"', \"Aberlour A'bunadh Alba\", 'Kilchoman U.S. Small Batch Limited Edition', 'Game Of Thrones Six Kingdoms Mortlach 15 Year Old', 'Compass Box Myths & Legends I', 'Compass Box Myths & Legends II', 'Compass Box Myths & Legends III', 'Compass Box The Circle I', 'Glenmorangie The Cadboll Estate 15 Year Old', 'The Classic Cask 23 Year Old Original Cask', 'The Classic Cask 23 Year Old Caribbean Rum Finish', 'The Classic Cask 23 Year Old Oloroso Sherry Finish', 'The Classic Cask 23 Year Old Port Finish', 'Jane Walker 2.0 - 10 Year Old', 'The Macallan Classic Cut 2019 Limited Edition', \"Dewar's 15 Year Old\", 'Royal Brackla 12 Year Old', 'Aberfeldy 16 Year Old', 'Highland Park Wall Street 13 Year Old', 'The Glenlivet Caribbean Reserve', 'Highland Park 12 Year Old Flaviar Edition 2020', 'Bank Note 5 Year Old Peated Reserve', 'Alexander Murray Glen Moray 12 Year Old 2002', 'Alexander Murray Ardmore 9 Year Old 2008', 'Ardbeg 5 Year Old Wee Beastie', \"Dewar's 8 Year Old Ilegal Smooth\", \"Dewar's 18 Year Old\", \"Dewar's 8 Year Old Caribbean Rum Cask Finish\", \"Dewar's Double Double 27 Year Old\", \"Dewar's Double Double 32 Year Old\", \"Dewar's 25 Year Old\", 'Kilkerran 12 Year Old', 'Tamdhu 12 Year Old', 'The Glenlivet Spectra', 'The Dalmore Port Wood Reserve', \"Dewar's Double Double 21 Year Old\", 'The Macallan Estate Single Malt Scotch Whisky', \"MacNair's Lum Reek Peated Blended Scotch Whisky\", 'Orphan Barrel Muckety-Muck 24 Year Old', 'The Macallan 15 Year Old  Double Cask', 'The Macallan 18 Year Old Double Cask', 'Bruichladdich Black Art 8.1', 'Aberlour Casg Annamh Batch 4', 'Bruichladdich Port Charlotte Islay Barley', 'Bruichladdich Port Charlotte OLC: 01 2010', 'The Macallan Edition No. 6', 'Ardbeg Traigh Bhan 19 Year Old 2020 Edition', 'Highland Park Cask Strength No. 1 Release', 'Daftmill 2006 Summer Batch Release Scotch Whisky', 'Glenfiddich Fire & Cane Experimental Series', 'The Macallan Classic Cut 2020 Limited Edition', 'The Macallan Rare Cask 2020 Release', 'Aberfeldy 12 Year Old Gold Bar Gift Pack', 'Son of a Peat Batch 03 The Redeemer', 'BenRiach 12 Year Old The Smoky Twelve', 'Aberfeldy 18 Year Old Pauillac Finished', 'Balblair 15 Year Old', 'Compass Box Malt Whisky Collection Gift Set', 'Aberlour Casg Annamh Batch 3', 'Johnnie Walker Blue Label Year Of The Ox Limited Edition', \"Dewar's 8 Year Old Portuguese Smooth\", 'Ardbeg 25 Year Old', 'Arran Quarter Cask The Bothy', 'Arran Sherry Cask The Bodega', 'Alexander Murray Macduff 17 Year Old 2002', 'Glenfiddich 14 Year Old Bourbon Barrel Reserve', 'Arran 10 Year Old Whisky', 'Compass Box Spice Tree', 'Chivas Regal 18YO', 'Oban 14 Year Old', 'The Dalmore Cigar Malt Reserve', 'The Dalmore 18 Year Old', \"Grant's Ale Cask Finish\", 'The Balvenie Scotch Single Malt 17 Year Doublewood', 'Cutty Sark Prohibition', 'Johnnie Walker The White Walker Edition', 'Ledaig 10 Year Old', 'Bunnahabhain 18 Year Old', 'Caol Ila 12 Year Old', 'Dalwhinnie 15 Year Old', 'Lagavulin 16 Year Old', 'Tomatin 18 Year Old', 'Kilchoman Machir Bay', 'Glenfarclas 17 Year Old', 'Mortlach Rare Old', 'Tullibardine 225 Sauternes Finish Scotch', 'Glenfiddich IPA Experiment', 'Highland Park Full Volume', 'Ledaig 19 Year Old Marsala Cask Finish', 'Wolfburn Aurora', 'Deanston 18 Year Old Bourbon Cask Finish', 'The Glenlivet 12 Year Old First Fill Exclusive Edition', 'Speyburn Bradan Orach', 'Chivas Regal Royal Salute 21 Year Old', 'The Macallan Edition No.4', 'Johnnie Walker Blue Label', 'Longmorn 16 Year Old', 'The Balvenie 14 Year Old Caribbean Cask', 'Auchentoshan American Oak', 'Tullibardine 20 Year Old', 'The Macallan Edition No.2', 'Ardbeg An Oa', 'The Macallan Edition No.3', 'The Macallan Double Cask Gold', 'Glenmorangie Lasanta 12 Year Old', 'Springbank 12 Year Old Cask Strength', 'Talisker Storm', 'The GlenDronach 12 Year Old Original', 'Kilchoman Sanaig', 'Bunnahabhain Toiteach', 'Glenmorangie 18 YO Extremely Rare', 'Glenfarclas 10', 'Tomatin 12 Year Old Cuatro Series #2 Manzanilla Sherry Cask Finish', 'Longrow Peated Single Malt', 'Auchentoshan Virgin Oak', 'The Macallan Rare Cask Batch No. 2 2019 Release', 'SIA Blended Scotch Whisky', 'Oban Little Bay', 'Craigellachie 23 Year Old', 'Aultmore 18 Year Old', 'The GlenDronach 18 Year Old Allardice', 'Old Pulteney Navigator', 'Glenmorangie Signet', 'The Glenlivet Nàdurra Oloroso', \"Buchanan's 18 Year Old Special Reserve\", 'Ardmore Legacy', 'Deanston Virgin Oak', 'Lagavulin 8 Year Old', 'Ardbeg Uigeadail', 'Oban Distillers Edition', 'Compass Box Hedonism', 'Scallywag Small Batch Release Speyside Malt Scotch Whisky', 'Glen Grant 12 Year Old', 'Aberfeldy 21 Year Old', 'Laphroaig Quarter Cask', 'Kilchoman 100% Islay', 'The Glenlivet Archive 21 Year Old', 'The Arran Amarone Cask Finish', 'Ardbeg Corryvreckan', 'Monkey Shoulder Blended Scotch Whisky', 'Glenfarclas 105', 'Glenglassaugh Revival', 'The GlenDronach 21 Year Old Parliament', 'Laphroaig Triple Wood', 'Bunnahabhain 25 Year Old', 'Aberlour 12 Year Old', 'BenRiach Curiositas 10 Year Old', 'BenRiach 10 Year Old', 'Glenfiddich 18 Year Old', 'Glengoyne 21 Year Old', \"The Glenlivet Founder's Reserve\", 'Isle Of Skye 12 Year Old', 'Auchentoshan Three Wood', 'Auchentoshan 18 Year Old', 'The Glenlivet 15 Year Old French Oak Reserve', 'Auchentoshan 12 Year Old Whisky', 'The Glenlivet Nàdurra Peated Cask Finish', 'The Glenlivet Nàdurra First Fill Selection', 'Tamdhu Batch Strength', 'Laphroaig Lore', 'Compass Box Oak Cross', 'Glenfarclas 21 Year Old', 'Highland Park 25 Year Old', 'Compass Box The Peat Monster', 'Benromach 10 Year Old', 'Glen Scotia Victoriana', 'Tomatin Cu Bocan', 'The Macallan 12 Year Old Sherry Oak', 'The Dalmore 25 Year Old', 'Johnnie Walker Black Label 12 Year Old', 'Bowmore 12 Year Old', 'Scapa Skiren', \"Glen Garioch 1797 Founder's Reserve\", \"Compass Box Great King Street Artist's Blend\", 'Johnnie Walker Double Black', 'Ardbeg 10 Year Old', 'Chivas Regal Extra Scotch Whisky', 'Inchmurrin 18 Year Old', 'Glen Scotia 15 Year Old', 'The Macallan 12 Year Old Double Cask', 'Talisker 18 Year Old', 'Craigellachie 13 Year Old', 'Bunnahabhain 12 Year Old', 'Talisker 10 Year Old', 'Laphroaig 10 Year Old Cask Strength', 'The Dalmore King Alexander III', 'Cardhu 12 Year Old', 'Benromach Organic', 'Glengoyne 12 Year Old', 'Bowmore 18 Year Old', 'Glenkinchie 12 Year Old', 'The Dalmore 12 Year Old', 'The Glenlivet XXV', 'Ledaig 42 Year Old Dusgadh', 'Glenfarclas 12 Scotch Whisky', 'Laphroaig Select']\n"
     ]
    }
   ],
   "source": [
    "pickle.dump(profile_class6.text, open( \"tasting-notes.p\", \"wb\" ))\n",
    "print(pickle.load(open( \"tasting-notes.p\", \"rb\" )))\n",
    "\n",
    "\n",
    "\n",
    "pickle.dump(bottle_editions, open( \"bottle-editions.p\", \"wb\" ))\n",
    "print(pickle.load(open( \"bottle-editions.p\", \"rb\" )))"
   ]
  }
 ],
 "metadata": {
  "kernelspec": {
   "display_name": "Python 3",
   "language": "python",
   "name": "python3"
  },
  "language_info": {
   "codemirror_mode": {
    "name": "ipython",
    "version": 3
   },
   "file_extension": ".py",
   "mimetype": "text/x-python",
   "name": "python",
   "nbconvert_exporter": "python",
   "pygments_lexer": "ipython3",
   "version": "3.9.2"
  }
 },
 "nbformat": 4,
 "nbformat_minor": 5
}
