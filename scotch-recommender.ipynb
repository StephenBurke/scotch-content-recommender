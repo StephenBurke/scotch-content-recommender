{
 "cells": [
  {
   "cell_type": "code",
   "execution_count": 1,
   "id": "liquid-expense",
   "metadata": {},
   "outputs": [],
   "source": [
    "# move this down\n",
    "import pandas as pd\n",
    "from sklearn.feature_extraction.text import TfidfVectorizer\n",
    "from sklearn.metrics.pairwise import linear_kernel \n",
    "ds = pd.read_csv('scotch_review.csv')"
   ]
  },
  {
   "cell_type": "code",
   "execution_count": 2,
   "id": "continued-violation",
   "metadata": {},
   "outputs": [],
   "source": [
    "import requests\n",
    "from bs4 import BeautifulSoup\n",
    "import re\n",
    "import pickle\n",
    "import csv"
   ]
  },
  {
   "cell_type": "code",
   "execution_count": 3,
   "id": "fluid-martial",
   "metadata": {},
   "outputs": [],
   "source": [
    "URL0 = 'https://flaviar.com/bottles/scotch'\n",
    "\n",
    "page0 = requests.get(URL0)\n",
    "\n",
    "soup0 = BeautifulSoup(page0.text, 'lxml')"
   ]
  },
  {
   "cell_type": "code",
   "execution_count": 4,
   "id": "wicked-bobby",
   "metadata": {},
   "outputs": [
    {
     "name": "stdout",
     "output_type": "stream",
     "text": [
      "289\n"
     ]
    }
   ],
   "source": [
    "# scraps website for bottle edition\n",
    "\n",
    "bottle_names = []\n",
    "bottle_editions = []\n",
    "bottle_types = []\n",
    "\n",
    "\n",
    "\n",
    "class0 = soup0.find('div', {'id': 'content', 'class': 'overflow-hidden'})\n",
    "class1 = class0.find('div', {'class': 'fullWidth pattern-bg sand-bg-mobile padding-top-50 padding-top-mobile-40 padding-bottom-50'})\n",
    "class2 = class1.find('div', {'class': 'container'})\n",
    "class3 = class2.find('div', {'class': 'row'})\n",
    "class4 = class3.find('div', {'class': 'col-md-12'})\n",
    "class5 = class4.find('div', {'id': 'previousboxes', 'class': 'row margin-left-0 margin-right-0 padding-left-mobile-10 padding-right-mobile-10 bottles'})\n",
    "class6 = class5.find('div', {'class': 'row'})\n",
    "class7 = class6.find_all('div', {'class': 'col-lg-3 col-md-4 col-sm-6'})\n",
    "\n",
    "\n",
    "for i in class7:\n",
    "    class8 = i.find('a', {'class': 'single-item bottle'})    \n",
    "    class9 = class8.find('div', {'class': 'holder'})\n",
    "    class10 = class9.find('div', {'class': 'about flex flex--space-between'})\n",
    "    class11 = class10.find('div', {'class': 'desc'})\n",
    "    \n",
    "    bottle_name = class11.find('div', {'class': 'name'})\n",
    "    bottle_edition = class11.find('div', {'class': 'edition'})\n",
    "    bottle_type = class11.find('div', {'class': 'type'})\n",
    "    \n",
    "    bottle_names.append(bottle_name.text.replace(\"'\",\"\").replace('the ','').replace(' ','-'))\n",
    "    bottle_editions.append(bottle_edition.text.replace(\"'\",\"\").replace(' ','-').replace('No.', 'no'))\n",
    "    bottle_types.append(bottle_type.text)\n",
    "    \n",
    "\n",
    "print(len(bottle_editions))"
   ]
  },
  {
   "cell_type": "code",
   "execution_count": 5,
   "id": "authorized-familiar",
   "metadata": {},
   "outputs": [
    {
     "name": "stdout",
     "output_type": "stream",
     "text": [
      "289\n"
     ]
    }
   ],
   "source": [
    "# Creates url for all editions in selected bottle type(s)\n",
    "# Type choosen when URL0 is defined\n",
    "\n",
    "url_editions = []\n",
    "BOTTLE_COUNT = len(bottle_editions)\n",
    "for n in range(BOTTLE_COUNT):\n",
    "    url_editions.append((str('https://flaviar.com/' + bottle_names[n] + '/' + bottle_editions[n])))\n",
    "print(len(url_editions))"
   ]
  },
  {
   "cell_type": "code",
   "execution_count": 43,
   "id": "completed-potter",
   "metadata": {},
   "outputs": [],
   "source": [
    "#print(url_editions[:4])\n",
    "\n",
    "# Fixing urls\n",
    "\n",
    "url_editions[6] = 'https://flaviar.com/Aberlour/Aberlour-18-Year-Old'\n",
    "url_editions[12] = 'https://flaviar.com/glenlivet/the-glenlivet-18-year-old'\n",
    "url_editions[13] = 'https://flaviar.com/bruichladdich/bruichladdich-scottish-barley-malt-whisky'\n",
    "url_editions[17] = 'https://flaviar.com/glenrothes/glenrothes-25-year-old'\n",
    "url_editions[31] = 'https://flaviar.com/port-askaig/port-askaig-110-proof'\n",
    "url_editions[33] = 'https://flaviar.com/bunnahabhain/bunnahabhain-stiuireadair'\n",
    "url_editions[37] = 'https://flaviar.com/aberlour/aberlour-16-year-old-40'\n",
    "url_editions[38] = 'https://flaviar.com/port-askaig/port-askaig-8-year-old-scotch-whisky'\n",
    "url_editions[40] = 'https://flaviar.com/alexander-murray/alexander-murray-monumental-blend-18-year-old'\n",
    "url_editions[42] = 'https://flaviar.com/compass-box/compass-box-the-story-of-the-spaniard'\n",
    "url_editions[48] = 'https://flaviar.com/glenrothes/glenrothes-bourbon-cask-reserve-speyside'\n",
    "url_editions[54] = 'https://flaviar.com/balvenie/the-balvenie-21-year-old-port-wood-finish'\n",
    "url_editions[66] = 'https://flaviar.com/glenmorangie/glenmorangie-allta-private-edition-no-10'\n",
    "url_editions[67] = 'https://flaviar.com/glenmorangie/glenmorangie-spios-private-edition-single-malt'\n",
    "url_editions[68] = 'https://flaviar.com/bunnahabhain/bunnahabhain-toiteach-a-dha'\n",
    "url_editions[69] = 'https://flaviar.com/orphan-barrel/orphan-barrel-foragers-keep'\n",
    "url_editions[79] = 'https://flaviar.com/glenallachie/glenallachie-12-year-old'\n",
    "url_editions[84] = 'https://flaviar.com/compass-box/compass-box-no-name-no2'\n",
    "url_editions[85] = 'https://flaviar.com/glenfiddich/glenfiddich-grand-cru'\n",
    "url_editions[88] = 'https://flaviar.com/royal-brackla/royal-brackla-16-years-old'\n",
    "url_editions[90] = 'https://flaviar.com/ardbeg/ardbeg-traighbhan-19-year-old-2019-edition-700ml'\n",
    "url_editions[91] = 'https://flaviar.com/mortlach/mortlach-16-year-distillers-dram'\n",
    "url_editions[92] = 'https://flaviar.com/mortlach/mortlach-12-year-the-wee-witchie'\n",
    "url_editions[94] = 'https://flaviar.com/kilchoman/kilchoman-us-small-batch-limited-edition'\n",
    "url_editions[96] = 'https://flaviar.com/compass-box/compass-box-myths-legends-i'\n",
    "url_editions[97] = 'https://flaviar.com/compass-box/compass-box-myths-legends-iii'\n",
    "url_editions[104] = 'https://flaviar.com/johnnie-walker/johnnie-walker-10-year-old-blended-scotch-whisky-the-jane-walker-edition-2'\n",
    "url_editions[127] = 'https://flaviar.com/macallan/the-macallan-estate-single-malt-scotch-whisky'\n",
    "url_editions[128] = 'https://flaviar.com/macnairs/macnairs-lum-reek-peated-blended-scotch-whisky'\n",
    "url_editions[130] = 'https://flaviar.com/macallan/the-macallan-15-year-old-double-cask'\n",
    "url_editions[132] = 'https://flaviar.com/bruichladdich/bruichladdich-black-art-81'\n",
    "url_editions[135] = 'https://flaviar.com/bruichladdich/bruichladdich-port-charlotte-olc-01-2010'\n",
    "url_editions[139] = 'https://flaviar.com/hotaling-co/daftmill-2006-summer-batch-release-scotch-whisky'\n",
    "url_editions[140] = 'https://flaviar.com/glenfiddich/glenfiddich-fire-cane-experimental-series'\n",
    "url_editions[162] = 'https://flaviar.com/dalmore/dalmore-18-year-old'\n",
    "url_editions[169] = 'https://flaviar.com/bunnahabhain/bunnahabhain-scotch-single-malt-18-year'\n",
    "url_editions[185] = 'https://flaviar.com/chivas-regal/chivas-regal-royal-salute-21-yo'\n",
    "url_editions[198] = 'https://flaviar.com/glendronach/glendronach-12-year-old-original'\n",
    "url_editions[203] = 'https://flaviar.com/tomatin/tomatin-12-year-old-2002-cuatro-2-manzanilla-sherry-cask-finish'\n",
    "url_editions[204] = 'https://flaviar.com/longrow/longrow-single-malt-peated'\n",
    "url_editions[207] = 'https://flaviar.com/sia/sia-scotch-whisky'\n",
    "url_editions[208] = 'https://flaviar.com/oban/oban-little-bay-single-malt-scotch-whisky'\n",
    "url_editions[211] = 'https://flaviar.com/glendronach/glendronach-scotch-single-malt-18-year-allardice'\n",
    "url_editions[214] = 'https://flaviar.com/glenlivet/the-glenlivet-nadurra-oloroso'\n",
    "url_editions[217] = 'https://flaviar.com/deanston/deanston-scotch-single-malt-virgin-oak'\n",
    "url_editions[222] = 'https://flaviar.com/scallywag/scallywag'\n",
    "url_editions[226] = 'https://flaviar.com/kilchoman/kilchoman-100-islay'\n",
    "url_editions[233] = 'https://flaviar.com/glendronach/glendronach-21yo-parliament'\n",
    "url_editions[234] = 'https://flaviar.com/laphroaig/laphroaig-scotch-single-malt-triple-wood'\n",
    "url_editions[248] = 'https://flaviar.com/glenlivet/glenlivet-nadurra-peated-whisky-cask-finish'\n",
    "url_editions[249] = 'https://flaviar.com/glenlivet/the-glenlivet-nadurra-first-fill-selection'\n",
    "url_editions[260] = 'https://flaviar.com/dalmore/dalmore-25-year-old'\n",
    "url_editions[266] = 'https://flaviar.com/johnnie-walker/johnnie-walker-double-black-whisky'\n",
    "url_editions[277] = 'https://flaviar.com/dalmore/dalmore-king-alexander-iii'\n",
    "url_editions[283] = 'https://flaviar.com/dalmore/dalmore-12-year-old-whisky'\n",
    "url_editions[288] = 'https://flaviar.com/macallan/the-macallan-fine-oak-scotch-single-malt-17-year-old'\n"
   ]
  },
  {
   "cell_type": "code",
   "execution_count": 30,
   "id": "differential-celebration",
   "metadata": {},
   "outputs": [
    {
     "name": "stdout",
     "output_type": "stream",
     "text": [
      "289\n",
      "https://flaviar.com/Glenmorangie/Glenmorangie-Lasanta-12-Year-Old\n"
     ]
    }
   ],
   "source": [
    "print(len(set(url_editions)))\n",
    "print(url_editions[196])"
   ]
  },
  {
   "cell_type": "code",
   "execution_count": 45,
   "id": "international-stick",
   "metadata": {},
   "outputs": [
    {
     "data": {
      "text/plain": [
       "\"print('Appearances:', appearances[-1])\\nprint('Noses:', noses[-1])\\nprint('Palates:', palates[-1])\\nprint('Finishes:', finishes[-1])\""
      ]
     },
     "execution_count": 45,
     "metadata": {},
     "output_type": "execute_result"
    }
   ],
   "source": [
    "appearances = []\n",
    "noses = []\n",
    "palates = []\n",
    "finishes = []\n",
    "\n",
    "\n",
    "for url in range(len(url_editions)):\n",
    "    \n",
    "        \n",
    "    URL1 = url_editions[url]\n",
    "    \n",
    "    page1 = requests.get(URL1)\n",
    "\n",
    "    soup1 = BeautifulSoup(page1.text, 'lxml')\n",
    "    \n",
    "    if(URL1 == 'https://flaviar.com/ardbeg/ardbeg-traighbhan-19-year-old-2019-edition-700ml'): \n",
    "        continue\n",
    "    if(URL1 == 'https://flaviar.com/Glenmorangie/Glenmorangie-Lasanta-12-Year-Old'): \n",
    "        continue\n",
    "   \n",
    "    \n",
    "    \n",
    "    \n",
    "    \n",
    "    current_url = []\n",
    "    current_url.append(URL1)\n",
    "    \n",
    "    #print(current_url[-1])\n",
    "\n",
    "    profile_class0 = soup1.find('div', {'id': 'content', 'class': 'overflow-hidden'})\n",
    "    profile_class1 = profile_class0.find('div', {'id': 'info', 'class': 'container'})\n",
    "    profile_class2 = profile_class1.find('div', {'class': 'row shrink flex flex--stretch margin-bottom-50 margin-bottom-mobile-0'})\n",
    "    profile_class3 = profile_class2.find('div', {'class': 'col-md-8 col-sm-12 col-xs-12 element info-description flex _flex-2 fit2EdgeOnMobile'})\n",
    "    profile_class4 = profile_class3.find('div', {'class': 'introduce pattern-bg equal moduleTabs collapsable-content-box'})\n",
    "    profile_class5 = profile_class4.find('div', {'id': 'tasting-notes','class': 'body collapse in more-body-padding'})\n",
    "    profile_class6 = profile_class5.find('div', {'class': 'p-content'})\n",
    "    \n",
    "    \n",
    "    if(profile_class6.find('br')) is not None and URL1 != 'https://flaviar.com/aberlour/aberlour-16-year-old-40':\n",
    "        \n",
    "        # Appearances\n",
    "        appearances.append(str(profile_class6.find('br').next_sibling).strip('\\r\\n'))\n",
    "        \n",
    "        # Noses\n",
    "        try:\n",
    "            noses.append(str(profile_class6.find('br').next_sibling.next_sibling.next_sibling.next_sibling.\n",
    "                next_sibling.next_sibling.next_sibling.next_sibling).strip('\\r\\n'))\n",
    "        except:\n",
    "            noses.append(str(profile_class6.find('div').next_element.next_element.next_element.next_element.\n",
    "                next_element.next_element.next_element.next_element.next_element.next_element.next_element.\n",
    "                      next_element.next_element.next_element.next_element.next_element.next_element).strip('\\r\\n'))\n",
    "            \n",
    "        # Palates    \n",
    "        try:\n",
    "            palates.append(str(profile_class6.find('br').next_sibling.next_sibling.next_sibling.next_sibling.\n",
    "                               next_sibling.next_sibling.next_sibling.next_sibling.next_sibling.next_sibling.next_sibling.\n",
    "                               next_sibling.next_sibling.next_sibling.next_sibling).strip('\\r\\n'))\n",
    "        except:\n",
    "            palates.append(str(profile_class6.find('div').next_element.next_element.next_element.next_element.\n",
    "                  next_element.next_element.next_element.next_element.next_element.next_element.next_element.\n",
    "                  next_element.next_element.next_element.next_element.next_element.next_element.next_element.\n",
    "                  next_element.next_element.next_element.next_element.next_element.next_element.next_element.\n",
    "                  next_element.next_element.next_element).strip('\\r\\n'))\n",
    "          \n",
    "       \n",
    "        # Finish\n",
    "        try:\n",
    "            finishes.append(str(profile_class6.find('br').next_sibling.next_sibling.next_sibling.next_sibling.\n",
    "                                next_sibling.next_sibling.next_sibling.next_sibling.next_sibling.next_sibling.next_sibling.\n",
    "                                next_sibling.next_sibling.next_sibling.next_sibling.next_sibling.next_sibling.next_sibling.\n",
    "                                next_sibling.next_sibling.next_sibling.next_sibling).strip('\\r\\n'))\n",
    "\n",
    "        except:\n",
    "            try:\n",
    "                finishes.append(str(profile_class6.find('br').next_sibling.next_sibling.next_sibling.next_sibling.\n",
    "                                next_sibling.next_sibling.next_sibling.next_sibling.next_sibling.next_sibling.next_sibling.\n",
    "                                next_sibling.next_sibling.next_sibling.next_sibling.next_sibling.next_sibling.next_sibling).strip('\\r\\n'))\n",
    "            except:\n",
    "                try:\n",
    "                    finishes.append(str(profile_class6.find('br').next_sibling.next_sibling.next_sibling.next_sibling.\n",
    "                                        next_sibling.next_sibling.next_sibling.next_sibling.next_sibling.next_sibling.\n",
    "                                        next_sibling.next_sibling.next_sibling.next_sibling.next_sibling.next_sibling).strip('\\r\\n'))\n",
    "                except:\n",
    "                    finishes.append(str(profile_class6.find('div').next_element.next_element.next_element.next_element.\n",
    "                              next_element.next_element.next_element.next_element.next_element.next_element.next_element.\n",
    "                              next_element.next_element.next_element.next_element.next_element.next_element.next_element.\n",
    "                              next_element.next_element.next_element.next_element.next_element.next_element.next_element.\n",
    "                              next_element.next_element.next_element.next_element.next_element.next_element.next_element.\n",
    "                              next_element.next_element.next_element.next_element.next_element.next_element).strip('\\r\\n'))\n",
    "    \n",
    "    \n",
    "    \n",
    "    else:\n",
    "        \n",
    "        for p in profile_class6.find_all('div'):\n",
    "\n",
    "            # Appearances\n",
    "            if (p.text == '\\nAppearance / Color'):\n",
    "                appearances.append(str(profile_class6.div.next_sibling.next_sibling.text).strip('\\r\\n\\t'))\n",
    "            # Noses\n",
    "            elif (p.text == '\\nNose / Aroma / Smell'):\n",
    "                \n",
    "                noses.append(str(profile_class6.div.next_sibling.next_sibling.next_sibling.\n",
    "                                 next_sibling.next_sibling.next_sibling.next_sibling.next_sibling.\n",
    "                                 text).strip('\\r\\n\\t'))\n",
    "            # Palates\n",
    "            elif (p.text == '\\nFlavor / Taste / Palate'):\n",
    "                \n",
    "                try:\n",
    "                    palates.append(str(profile_class6.div.next_sibling.next_sibling.next_sibling.\n",
    "                                       next_sibling.next_sibling.next_sibling.next_sibling.next_sibling.\n",
    "                                       next_sibling.next_sibling.next_sibling.next_sibling.next_sibling.\n",
    "                                       next_sibling.text).strip('\\r\\n\\t'))\n",
    "                except:\n",
    "                    palates.append(str(profile_class6.div.next_element.next_element.next_element.next_element.\n",
    "                                       next_element.next_element.next_element.next_element.next_element.next_element.\n",
    "                                       next_element.next_element.next_element.next_element.next_element.next_element.\n",
    "                                       next_element.next_element.next_element).strip('\\r\\n\\t'))\n",
    "            # Finishes\n",
    "            elif (p.text == '\\nFinish'):\n",
    "                try:\n",
    "                    finishes.append(str(profile_class6.div.next_sibling.next_sibling.next_sibling.\n",
    "                                        next_sibling.next_sibling.next_sibling.next_sibling.next_sibling.\n",
    "                                        next_sibling.next_sibling.next_sibling.next_sibling.next_sibling.\n",
    "                                        next_sibling.next_sibling.next_sibling.next_sibling.next_sibling.\n",
    "                                        next_sibling.next_sibling.text).strip('\\r\\n\\t'))\n",
    "                except:\n",
    "                    finishes.append(str(profile_class6.div.next_element.next_element.next_element.\n",
    "                                        next_element.next_element.next_element.next_element.next_element.\n",
    "                                        next_element.next_element.next_element.next_element.next_element.\n",
    "                                        next_element.next_element.next_element.next_element.next_element.\n",
    "                                        next_element.next_element.next_element.next_element.next_element.\n",
    "                                        next_element.next_element.next_element.next_element.next_element.\n",
    "                                        next_element.next_element.next_element.next_element.next_element.\n",
    "                                        next_element.next_element.next_element.next_element.next_element.\n",
    "                                        next_element.next_element.text).strip('\\r\\n\\t'))\n",
    "    print('Appearances:', appearances[-1])\n",
    "    print('Noses:', noses[-1])\n",
    "    print('Palates:', palates[-1])\n",
    "    print('Finishes:', finishes[-1])"
   ]
  },
  {
   "cell_type": "code",
   "execution_count": 47,
   "id": "durable-lexington",
   "metadata": {},
   "outputs": [
    {
     "name": "stdout",
     "output_type": "stream",
     "text": [
      "289\n",
      "289\n",
      "280\n",
      "https://flaviar.com/macallan/the-macallan-fine-oak-scotch-single-malt-17-year-old\n",
      "https://flaviar.com/deanston/deanston-scotch-single-malt-virgin-oak\n",
      "\n"
     ]
    }
   ],
   "source": [
    "print(len(url_editions))\n",
    "print(len(set(url_editions)))\n",
    "print(len(appearances))\n",
    "print(current_url[-1])\n",
    "print(url_editions[217])\n",
    "print()"
   ]
  },
  {
   "cell_type": "code",
   "execution_count": 52,
   "id": "animated-lincoln",
   "metadata": {},
   "outputs": [
    {
     "name": "stdout",
     "output_type": "stream",
     "text": [
      "280\n",
      "270\n",
      "281\n",
      "264\n",
      "289\n"
     ]
    }
   ],
   "source": [
    "print(len(appearances))\n",
    "print(len(noses))\n",
    "print(len(palates))\n",
    "print(len(finishes))\n",
    "print(len(url_editions))\n"
   ]
  },
  {
   "cell_type": "code",
   "execution_count": null,
   "id": "equal-bowling",
   "metadata": {},
   "outputs": [],
   "source": [
    "with open('scotch_review.csv', 'w', newline = '') as f:\n",
    "    for_to_write = csv.writer(f)\n",
    "    \n",
    "    for_to_write.writerow(['edition', 'appearance', 'nose', 'palate', 'finish'])\n",
    "\n",
    "    for n in range(len(bottle_editions)):\n",
    "            \n",
    "        for_to_write.writerow([bottle_edition[n], appearances[n], noses[n], palates[n], finishes[n]])\n",
    "        "
   ]
  },
  {
   "cell_type": "code",
   "execution_count": null,
   "id": "professional-couple",
   "metadata": {},
   "outputs": [],
   "source": [
    "with open('scotch_review.csv', 'w', newline = '') as f:\n",
    "    field_names = ['edition', 'appearance', 'nose', 'palate', 'finish']\n",
    "    for_to_write = csv.DictWriter(f, fieldnames = field_names)\n",
    "    \n",
    "\n",
    "    for n in range(len(bottle_editions)):\n",
    "            \n",
    "        for_to_write.writerow({'edition' : bottle_edition[n], 'appearance' : appearances[n],\n",
    "                               'noses' : noses[n], 'palate' : palates[n], 'finish' : finishes[n]})\n",
    "        "
   ]
  },
  {
   "cell_type": "code",
   "execution_count": null,
   "id": "hungarian-duncan",
   "metadata": {},
   "outputs": [],
   "source": [
    "pickle.dump(profile_class6.text, open( \"tasting-notes.p\", \"wb\" ))\n",
    "#print(pickle.load(open( \"tasting-notes.p\", \"rb\" )))\n",
    "\n",
    "\n",
    "\n",
    "pickle.dump(bottle_editions, open( \"bottle-editions.p\", \"wb\" ))\n",
    "#print(pickle.load(open( \"bottle-editions.p\", \"rb\" )))"
   ]
  }
 ],
 "metadata": {
  "kernelspec": {
   "display_name": "Python 3",
   "language": "python",
   "name": "python3"
  },
  "language_info": {
   "codemirror_mode": {
    "name": "ipython",
    "version": 3
   },
   "file_extension": ".py",
   "mimetype": "text/x-python",
   "name": "python",
   "nbconvert_exporter": "python",
   "pygments_lexer": "ipython3",
   "version": "3.9.2"
  }
 },
 "nbformat": 4,
 "nbformat_minor": 5
}
