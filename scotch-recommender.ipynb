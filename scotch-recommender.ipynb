{
 "cells": [
  {
   "cell_type": "code",
   "execution_count": 27,
   "id": "antique-narrow",
   "metadata": {},
   "outputs": [],
   "source": [
    "# move this down\n",
    "import pandas as pd\n",
    "from sklearn.feature_extraction.text import TfidfVectorizer\n",
    "from sklearn.metrics.pairwise import linear_kernel \n",
    "ds = pd.read_csv('indexed-whiskey-reviews.csv')"
   ]
  },
  {
   "cell_type": "code",
   "execution_count": 2,
   "id": "suitable-sterling",
   "metadata": {},
   "outputs": [],
   "source": [
    "import requests\n",
    "from bs4 import BeautifulSoup\n",
    "import re\n",
    "import pickle\n",
    "import csv\n",
    "import time"
   ]
  },
  {
   "cell_type": "code",
   "execution_count": 4,
   "id": "crude-station",
   "metadata": {},
   "outputs": [],
   "source": [
    "# Finds list of whiskey names\n",
    "'''\n",
    "URL1 = 'https://scotchnoob.com/reviews/?pagenum=1&dateFrom=11/10/2010&dateTo=04/11/2021&shownum=-1&orderBy=title&order=ASC&priceFrom=0&priceTo=-1&region=All&rating=All&tag_peated=false&tag_sherried=false&tag_indie=false'\n",
    "\n",
    "page1 = requests.get(URL1)\n",
    "\n",
    "pickle.dump(page1, open('list-of-bottles.p', 'wb'))'''\n",
    "\n",
    "page1 = pickle.load(open('list-of-bottles.p', 'rb'))\n",
    "\n",
    "soup1 = BeautifulSoup(page1.text, 'lxml')\n"
   ]
  },
  {
   "cell_type": "code",
   "execution_count": 6,
   "id": "built-opening",
   "metadata": {},
   "outputs": [],
   "source": [
    "# Finds whiskey names\n",
    "whiskey_names = []\n",
    "\n",
    "name0 = soup1.find('div', {'id' : 'filter_results'})\n",
    "\n",
    "whiskey_names = name0.find_all('h4')\n",
    "\n",
    "\n",
    "for w in range(len(whiskey_names)):\n",
    "\n",
    "    whiskey_names[w] = whiskey_names[w].text\n",
    "\n",
    "\n",
    "\n",
    "\n",
    "# Finds whiskey urls\n",
    "\n",
    "whiskey_urls = []\n",
    "\n",
    "for tag in name0.find_all('a', href = True):\n",
    "   \n",
    "    if (str(tag['href']) == '/?page_id=264') : continue\n",
    "    whiskey_urls.append(str(tag['href']))\n",
    "\n",
    "\n",
    "\n",
    "# Finds description of whiskey\n",
    "\n",
    "whiskey_files = []\n",
    "whiskey_desc = []\n",
    "\n",
    "for r in range(len(whiskey_names)):\n",
    "    whiskey_files.append(str(whiskey_names[r]).replace(' ',''))\n",
    "    \n",
    "    if (whiskey_files[r] == 'TheBenRiach(19year)Peated/OlorosoFinish1994'): \n",
    "        page0 = pickle.load(open('pages/TheBenRiach(19year)Peated-OlorosoFinish1994.p', 'rb'))\n",
    "    \n",
    "    else:\n",
    "        page0 = pickle.load(open('pages/' + whiskey_files[r] + '.p', 'rb'))\n",
    "    \n",
    "    \n",
    "    soup0 = BeautifulSoup(page0.text, 'lxml')\n",
    " \n",
    "    \n",
    "    # Builds temp array to join and append to whiskey_desc array\n",
    "    \n",
    "    class0 = soup0.find('div', {'class' : 'entry-content'})\n",
    "    class1 = class0.find_all('p')\n",
    "    \n",
    "   \n",
    "    whiskey_desc_mass = []\n",
    "    \n",
    "    for free in class1: \n",
    "        whiskey_desc_mass.append(str(free.text).replace(':', '').replace(',',''))\n",
    "        \n",
    "    whiskey_desc.append(''.join(whiskey_desc_mass))\n",
    "    "
   ]
  },
  {
   "cell_type": "code",
   "execution_count": 16,
   "id": "floral-confidence",
   "metadata": {},
   "outputs": [],
   "source": [
    "whiskey_dict = {'id': whiskey_names, 'description': whiskey_desc}\n",
    "\n",
    "df = pd.DataFrame(whiskey_dict)\n",
    "\n",
    "df.to_csv('whiskey-reviews.csv')"
   ]
  },
  {
   "cell_type": "code",
   "execution_count": 13,
   "id": "accepting-perspective",
   "metadata": {},
   "outputs": [],
   "source": [
    "merged_whiskeys = []\n",
    "\n",
    "for i in range(len(whiskey_names)):\n",
    "    merged_whiskeys.append(str(whiskey_names[i]) + '- ' + str(whiskey_desc[i]))\n",
    "\n",
    "    \n",
    "whiskey_dict = {'description': merged_whiskeys}\n",
    "\n",
    "df = pd.DataFrame(whiskey_dict)\n",
    "\n",
    "df.to_csv('merged-whiskey-reviews.csv')  "
   ]
  },
  {
   "cell_type": "code",
   "execution_count": 26,
   "id": "clinical-tyler",
   "metadata": {},
   "outputs": [],
   "source": [
    "\n",
    "\n",
    "whiskey_dict = {'id': range(509), 'description': merged_whiskeys}\n",
    "\n",
    "df = pd.DataFrame(whiskey_dict)\n",
    "\n",
    "df.to_csv('indexed-whiskey-reviews.csv', index = False)"
   ]
  },
  {
   "cell_type": "code",
   "execution_count": 65,
   "id": "final-locator",
   "metadata": {},
   "outputs": [],
   "source": [
    "pickle.dump(whiskey_desc, open('whiskey-desc.p', 'wb'))\n",
    "pickle.dump(whiskey_names, open('whiskey-names.p', 'wb'))\n",
    "pickle.dump(whiskey_urls, open('whiskey-urls.p', 'wb'))\n",
    "pickle.dump(whiskey_dict, open('whiskey-dictionary.p', 'wb'))"
   ]
  },
  {
   "cell_type": "code",
   "execution_count": 175,
   "id": "academic-constitution",
   "metadata": {},
   "outputs": [],
   "source": [
    "# Don't run this again!!\n",
    "# Don't delete, for posssible reference\n",
    "\n",
    "whiskey_files = []\n",
    "for r in range(len(whiskey_names)):\n",
    "    \n",
    "    URL0 = whiskey_urls[r]\n",
    "    \n",
    "    page0 = requests.get(URL0)\n",
    "    \n",
    "    \n",
    "    whiskey_files.append(str(whiskey_names[r]).replace(' ',''))\n",
    "    \n",
    "\n",
    "    if (whiskey_files[r] == 'TheBenRiach(19year)Peated/OlorosoFinish1994'): \n",
    "        pickle.dump(page0, open('pages/TheBenRiach(19year)Peated-OlorosoFinish1994.p', 'wb'))\n",
    "    \n",
    "    else:\n",
    "        pickle.dump(page0, open('pages/' + whiskey_files[r] + '.p', 'wb'))"
   ]
  },
  {
   "cell_type": "code",
   "execution_count": 30,
   "id": "signal-petroleum",
   "metadata": {},
   "outputs": [],
   "source": [
    "# Code for most of recommendation system comes from https://heartbeat.fritz.ai/recommender-systems-with-python-part-i-content-based-filtering-5df4940bd831\n",
    "\n",
    "# TF(t) = (Number of times term t appears in a document) / (Total number of terms in the document).\n",
    "# IDF(t) = log_e(Total number of documents / Number of documents with term t in it).\n",
    "\n",
    "tf = TfidfVectorizer(analyzer='word', ngram_range=(1, 3), min_df=0, stop_words='english')\n",
    "tfidf_matrix = tf.fit_transform(ds['description'])\n",
    "\n",
    "cosine_similarities = linear_kernel(tfidf_matrix, tfidf_matrix) \n",
    "results = {}\n",
    "\n",
    "for idx, row in ds.iterrows():\n",
    "    similar_indices = cosine_similarities[idx].argsort()[:-100:-1] \n",
    "    similar_items = [(cosine_similarities[idx][i], ds['id'][i]) for i in similar_indices] \n",
    "    results[row['id']] = similar_items[1:]\n",
    "\n",
    "def item(id):  \n",
    "    return ds.loc[ds['id'] == id]['description'].tolist()[0].split(' - ')[0] \n",
    "\n",
    "# Just reads the results out of the dictionary.\n",
    "\n",
    "def recommend(item_id, num):\n",
    "    print(\"Recommending \" + str(num) + \" products similar to \" + item(item_id) + \"...\")   \n",
    "    print(\"-------\")    \n",
    "    recs = results[item_id][:num]   \n",
    "    for rec in recs: \n",
    "       print(\"Recommended: \" + item(rec[1]) + \" (score:\" +      str(rec[0]) + \")\")\n",
    "\n"
   ]
  },
  {
   "cell_type": "code",
   "execution_count": 31,
   "id": "presidential-jenny",
   "metadata": {},
   "outputs": [
    {
     "name": "stdout",
     "output_type": "stream",
     "text": [
      "Recommending 4 products similar to 1792 Ridgemont Reserve Bourbon...\n",
      "-------\n",
      "Recommended: Very Old Barton 86 Proof (score:0.12985551169068832)\n",
      "Recommended: Very Old Barton 100 Proof (score:0.06609890213982444)\n",
      "Recommended: 1792 Port Finish Bourbon (score:0.05732192759374112)\n",
      "Recommended: Buffalo Trace Bourbon (score:0.05482786827201038)\n"
     ]
    }
   ],
   "source": [
    "recommend(1,4)"
   ]
  }
 ],
 "metadata": {
  "kernelspec": {
   "display_name": "Python 3",
   "language": "python",
   "name": "python3"
  },
  "language_info": {
   "codemirror_mode": {
    "name": "ipython",
    "version": 3
   },
   "file_extension": ".py",
   "mimetype": "text/x-python",
   "name": "python",
   "nbconvert_exporter": "python",
   "pygments_lexer": "ipython3",
   "version": "3.9.2"
  }
 },
 "nbformat": 4,
 "nbformat_minor": 5
}
