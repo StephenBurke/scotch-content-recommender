{
 "cells": [
  {
   "cell_type": "code",
   "execution_count": 2,
   "id": "front-extent",
   "metadata": {},
   "outputs": [],
   "source": [
    "# move this down\n",
    "import pandas as pd\n",
    "from sklearn.feature_extraction.text import TfidfVectorizer\n",
    "from sklearn.metrics.pairwise import linear_kernel \n",
    "ds = pd.read_csv('scotch_review.csv')"
   ]
  },
  {
   "cell_type": "code",
   "execution_count": 1,
   "id": "national-harris",
   "metadata": {},
   "outputs": [],
   "source": [
    "import requests\n",
    "from bs4 import BeautifulSoup\n",
    "import re"
   ]
  },
  {
   "cell_type": "code",
   "execution_count": 2,
   "id": "continental-corrections",
   "metadata": {},
   "outputs": [],
   "source": [
    "URL0 = 'https://flaviar.com/bottles/scotch'\n",
    "\n",
    "page0 = requests.get(URL0)\n",
    "\n",
    "soup0 = BeautifulSoup(page0.text)"
   ]
  },
  {
   "cell_type": "code",
   "execution_count": 7,
   "id": "polished-canada",
   "metadata": {},
   "outputs": [
    {
     "name": "stdout",
     "output_type": "stream",
     "text": [
      "['The Naked Grouse', 'Chivas Regal', \"Dewar's\", 'Johnnie Walker', 'Glenfiddich', 'The Macallan', 'Aberlour', 'Laphroaig', 'Singleton', 'Aberfeldy', 'Glenmorangie', 'Laphroaig', 'The Glenlivet', 'Bruichladdich', 'Lagavulin', 'Aberlour', 'Highland Park', 'The Glenrothes', 'Glengoyne', 'Bruichladdich', 'Singleton', 'Glenfiddich', 'Tomatin', 'Tullibardine', 'Black Bull', 'Tomintoul', 'Craigellachie', \"Dewar's\", 'Dalwhinnie', 'The Glenlivet', 'anCnoc', 'Glenfarclas', 'Port Askaig', 'Chivas Regal', 'Bunnahabhain', 'Glengoyne', 'Bowmore', 'Wolfburn', 'Aberlour', 'Port Askaig', 'Alexander Murray', 'Alexander Murray', 'Bruichladdich', 'Compass Box', 'Lismore', 'Highland Park', 'Highland Park', 'Highland Park', 'Highland Park', 'Johnnie Walker', 'The Glenrothes', 'The Glenrothes', 'The Glenrothes', 'The Glenrothes', 'Balvenie', 'Game of Thrones', 'Game of Thrones', 'Game of Thrones', 'Game of Thrones', 'Game of Thrones', 'Highland Park', 'The Macallan', 'The Macallan', 'The Macallan', 'Compass Box', 'Glenmorangie', 'Glenmorangie', 'Bunnahabhain', 'Johnnie Walker', 'Orphan Barrel', \"Mackinlay's\", 'Balvenie', 'Balvenie', 'The Glenlivet', 'The Glenlivet', 'Kilchoman', 'Highland Park', 'The GlenAllachie', 'The GlenAllachie', 'The GlenAllachie', 'Glenmorangie', 'Wolfburn', 'Wolfburn', 'Compass Box', 'Johnnie Walker', 'Stronachie', 'Johnnie Walker', 'Royal Brackla', 'Ardbeg', 'Mortlach', 'Mortlach', 'Aberlour', 'Kilchoman', 'Game of Thrones', 'Compass Box', 'Compass Box', 'Compass Box', 'Compass Box', 'Glenmorangie', 'The Classic Cask', 'The Classic Cask', 'The Classic Cask', 'The Classic Cask', 'Johnnie Walker', 'The Macallan', \"Dewar's\", 'Royal Brackla', 'Aberfeldy', 'Highland Park', 'The Glenlivet', 'Highland Park', 'Bank Note', 'Alexander Murray', 'Alexander Murray', 'Ardbeg', \"Dewar's\", \"Dewar's\", \"Dewar's\", \"Dewar's\", \"Dewar's\", \"Dewar's\", 'Kilkerran', 'Tamdhu', 'The Glenlivet', 'The Dalmore', 'The Macallan', \"MacNair's \", 'Orphan Barrel', 'The Macallan', 'The Macallan', 'Bruichladdich', 'Aberlour', 'Bruichladdich', 'Bruichladdich', 'The Macallan', 'Ardbeg', 'Highland Park', 'Hotaling & Co.', 'Glenfiddich', 'The Macallan', 'The Macallan', 'Aberfeldy', 'Son of a Peat', 'BenRiach', 'Aberfeldy', 'Balblair', 'Compass Box', 'Aberlour', 'Johnnie Walker', \"Dewar's\", 'Ardbeg', 'Arran', 'Arran', 'Alexander Murray', 'Glenfiddich', 'Arran', 'Compass Box', 'Chivas Regal', 'Oban', 'The Dalmore', 'The Dalmore', \"Grant's\", 'Balvenie', 'Cutty Sark', 'Johnnie Walker', 'The Macallan', 'Ledaig', 'Bunnahabhain', 'Caol Ila', 'Dalwhinnie', 'Lagavulin', 'Tomatin', 'Kilchoman', 'Glenfarclas', 'Mortlach', 'Tullibardine', 'Glenfiddich', 'Highland Park', 'Ledaig', 'Wolfburn', 'Deanston', 'The Glenlivet', 'Speyburn', 'Chivas Regal', 'The Macallan', 'Johnnie Walker', 'Longmorn', 'Balvenie', 'Auchentoshan', 'Tullibardine', 'The Macallan', 'Ardbeg', 'The Macallan', 'The Macallan', 'Glenmorangie', 'Springbank', 'Talisker', 'The GlenDronach', 'Kilchoman', 'Bunnahabhain', 'Glenmorangie', 'Glenfarclas', 'Tomatin', 'Longrow', 'Auchentoshan', 'The Macallan', 'SIA', 'Oban', 'Craigellachie', 'Aultmore', 'The GlenDronach', 'Old Pulteney', 'Glenmorangie', 'The Glenlivet', \"Buchanan's\", 'Ardmore', 'Deanston', 'Lagavulin', 'Ardbeg', 'Oban', 'Compass Box', 'Scallywag', 'Glen Grant', 'Aberfeldy', 'Laphroaig', 'Kilchoman', 'The Glenlivet', 'Arran', 'Ardbeg', 'Monkey Shoulder', 'Glenfarclas', 'The GlenDronach', 'Bunnahabhain', 'Aberlour', 'Duncan Taylor', 'BenRiach', 'BenRiach', 'Glenfiddich', 'Glengoyne', 'The Glenlivet', 'Isle of Skye', 'Auchentoshan', 'Auchentoshan', 'The Glenlivet', 'Auchentoshan', 'The Glenlivet', 'The Glenlivet', 'Tamdhu', 'Laphroaig', 'Compass Box', 'Glenfarclas', 'Highland Park', 'Compass Box', 'Benromach', 'Glen Scotia', 'Tomatin', 'The Macallan', 'The Dalmore', 'Johnnie Walker', 'Scapa', 'Glen Garioch', 'Compass Box', 'Johnnie Walker', 'Ardbeg', 'Chivas Regal', 'Inchmurrin', 'Glen Scotia', 'The Macallan', 'Talisker', 'Craigellachie', 'Bunnahabhain', 'Talisker', 'Laphroaig', 'The Dalmore', 'Cardhu', 'Benromach', 'Glengoyne', 'Bowmore', 'Glenkinchie', 'The Dalmore', 'The Glenlivet', 'Ledaig', 'Glenfarclas', 'Laphroaig']\n"
     ]
    }
   ],
   "source": [
    "#list_items = soup0.find('ol', {'class': 'as_table_block'})\n",
    "\n",
    "bottle_names = []\n",
    "\n",
    "\n",
    "class0 = soup0.find('div', {'id': 'content', 'class': 'overflow-hidden'})\n",
    "class1 = class0.find('div', {'class': 'fullWidth pattern-bg sand-bg-mobile padding-top-50 padding-top-mobile-40 padding-bottom-50'})\n",
    "class2 = class1.find('div', {'class': 'container'})\n",
    "class3 = class2.find('div', {'class': 'row'})\n",
    "class4 = class3.find('div', {'class': 'col-md-12'})\n",
    "class5 = class4.find('div', {'id': 'previousboxes', 'class': 'row margin-left-0 margin-right-0 padding-left-mobile-10 padding-right-mobile-10 bottles'})\n",
    "class6 = class5.find('div', {'class': 'row'})\n",
    "class7 = class6.find_all('div', {'class': 'col-lg-3 col-md-4 col-sm-6'})\n",
    "\n",
    "\n",
    "for i in class7:\n",
    "    #print('i:',i)\n",
    "    class8 = i.find('a', {'class': 'single-item bottle'})    \n",
    "    #print('Class8:',class8)\n",
    "    class9 = class8.find('div', {'class': 'holder'})\n",
    "    class10 = class9.find('div', {'class': 'about flex flex--space-between'})\n",
    "    class11 = class10.find('div', {'class': 'desc'})\n",
    "    bottle_name = class11.find('div', {'class': 'name'})\n",
    "    bottle_names.append(bottle_name.text)\n",
    "\n",
    "print(bottle_names)"
   ]
  }
 ],
 "metadata": {
  "kernelspec": {
   "display_name": "Python 3",
   "language": "python",
   "name": "python3"
  },
  "language_info": {
   "codemirror_mode": {
    "name": "ipython",
    "version": 3
   },
   "file_extension": ".py",
   "mimetype": "text/x-python",
   "name": "python",
   "nbconvert_exporter": "python",
   "pygments_lexer": "ipython3",
   "version": "3.9.2"
  }
 },
 "nbformat": 4,
 "nbformat_minor": 5
}
