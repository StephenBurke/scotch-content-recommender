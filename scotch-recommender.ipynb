{
 "cells": [
  {
   "cell_type": "code",
   "execution_count": 1,
   "id": "wrong-marine",
   "metadata": {},
   "outputs": [],
   "source": [
    "# move this down\n",
    "import pandas as pd\n",
    "from sklearn.feature_extraction.text import TfidfVectorizer\n",
    "from sklearn.metrics.pairwise import linear_kernel \n",
    "ds = pd.read_csv('scotch_review.csv')"
   ]
  },
  {
   "cell_type": "code",
   "execution_count": 2,
   "id": "brown-ballot",
   "metadata": {},
   "outputs": [],
   "source": [
    "import requests\n",
    "from bs4 import BeautifulSoup\n",
    "import re\n",
    "import pickle\n",
    "import csv"
   ]
  },
  {
   "cell_type": "code",
   "execution_count": 3,
   "id": "gothic-notification",
   "metadata": {},
   "outputs": [],
   "source": [
    "URL0 = 'https://flaviar.com/bottles/scotch'\n",
    "\n",
    "page0 = requests.get(URL0)\n",
    "\n",
    "soup0 = BeautifulSoup(page0.text, 'lxml')"
   ]
  },
  {
   "cell_type": "code",
   "execution_count": 4,
   "id": "identified-belly",
   "metadata": {},
   "outputs": [],
   "source": [
    "# scraps website for bottle edition\n",
    "\n",
    "bottle_names = []\n",
    "bottle_editions = []\n",
    "bottle_types = []\n",
    "\n",
    "\n",
    "\n",
    "class0 = soup0.find('div', {'id': 'content', 'class': 'overflow-hidden'})\n",
    "class1 = class0.find('div', {'class': 'fullWidth pattern-bg sand-bg-mobile padding-top-50 padding-top-mobile-40 padding-bottom-50'})\n",
    "class2 = class1.find('div', {'class': 'container'})\n",
    "class3 = class2.find('div', {'class': 'row'})\n",
    "class4 = class3.find('div', {'class': 'col-md-12'})\n",
    "class5 = class4.find('div', {'id': 'previousboxes', 'class': 'row margin-left-0 margin-right-0 padding-left-mobile-10 padding-right-mobile-10 bottles'})\n",
    "class6 = class5.find('div', {'class': 'row'})\n",
    "class7 = class6.find_all('div', {'class': 'col-lg-3 col-md-4 col-sm-6'})\n",
    "\n",
    "\n",
    "for i in class7:\n",
    "    class8 = i.find('a', {'class': 'single-item bottle'})    \n",
    "    class9 = class8.find('div', {'class': 'holder'})\n",
    "    class10 = class9.find('div', {'class': 'about flex flex--space-between'})\n",
    "    class11 = class10.find('div', {'class': 'desc'})\n",
    "    \n",
    "    bottle_name = class11.find('div', {'class': 'name'})\n",
    "    bottle_edition = class11.find('div', {'class': 'edition'})\n",
    "    bottle_type = class11.find('div', {'class': 'type'})\n",
    "    \n",
    "    bottle_names.append(bottle_name.text.replace(\"'\",\"\").replace(' ','-'))\n",
    "    bottle_editions.append(bottle_edition.text.replace(\"'\",\"\").replace(' ','-'))\n",
    "    bottle_types.append(bottle_type.text)\n",
    "    \n",
    "\n"
   ]
  },
  {
   "cell_type": "code",
   "execution_count": 5,
   "id": "marked-armstrong",
   "metadata": {},
   "outputs": [],
   "source": [
    "# Creates url for all editions in selected bottle type(s)\n",
    "# Type choosen when URL0 is defined\n",
    "\n",
    "url_editions = []\n",
    "BOTTLE_COUNT = len(bottle_editions)\n",
    "for n in range(BOTTLE_COUNT):\n",
    "    url_editions.append((str('https://flaviar.com/' + bottle_names[n] + '/' + bottle_editions[n])))\n",
    "    "
   ]
  },
  {
   "cell_type": "code",
   "execution_count": 6,
   "id": "flexible-bedroom",
   "metadata": {},
   "outputs": [
    {
     "name": "stdout",
     "output_type": "stream",
     "text": [
      "['https://flaviar.com/The-Naked-Grouse/The-Naked-Grouse', 'https://flaviar.com/Chivas-Regal/Chivas-Regal-12-Year-Old', 'https://flaviar.com/Dewars/Dewars-White-Label', 'https://flaviar.com/Johnnie-Walker/Johnnie-Walker-Gold-Label-Reserve']\n"
     ]
    }
   ],
   "source": [
    "print(url_editions[:4])"
   ]
  },
  {
   "cell_type": "code",
   "execution_count": 50,
   "id": "active-lighting",
   "metadata": {},
   "outputs": [],
   "source": [
    "\n",
    "appearances = []\n",
    "noses = []\n",
    "palates = []\n",
    "finishes = []\n",
    "c = 0\n",
    "\n",
    "for url in range(len(url_editions)):\n",
    "    \n",
    "    c+=1\n",
    "    if c == 4: break\n",
    "        \n",
    "    URL1 = url_editions[url]\n",
    "    \n",
    "    page1 = requests.get(URL1)\n",
    "\n",
    "    soup1 = BeautifulSoup(page1.text, 'lxml')\n",
    "    \n",
    "    \n",
    "    \n",
    "    \n",
    "    profile_class0 = soup1.find('div', {'id': 'content', 'class': 'overflow-hidden'})\n",
    "    profile_class1 = profile_class0.find('div', {'id': 'info', 'class': 'container'})\n",
    "    profile_class2 = profile_class1.find('div', {'class': 'row shrink flex flex--stretch margin-bottom-50 margin-bottom-mobile-0'})\n",
    "    profile_class3 = profile_class2.find('div', {'class': 'col-md-8 col-sm-12 col-xs-12 element info-description flex _flex-2 fit2EdgeOnMobile'})\n",
    "    profile_class4 = profile_class3.find('div', {'class': 'introduce pattern-bg equal moduleTabs collapsable-content-box'})\n",
    "    profile_class5 = profile_class4.find('div', {'id': 'tasting-notes','class': 'body collapse in more-body-padding'})\n",
    "    profile_class6 = profile_class5.find('div', {'class': 'p-content'})\n",
    "    \n",
    "\n",
    "          \n",
    "    if(profile_class6.find('br')) is not None:\n",
    "        appearances.append(str(profile_class6.find('br').next_sibling).strip('\\r\\n'))\n",
    "\n",
    "        noses.append(str(profile_class6.find('br').next_sibling.next_sibling.next_sibling.next_sibling.\n",
    "                next_sibling.next_sibling.next_sibling.next_sibling).strip('\\r\\n'))\n",
    "\n",
    "        palates.append(str(profile_class6.find('br').next_sibling.next_sibling.next_sibling.next_sibling.\n",
    "                next_sibling.next_sibling.next_sibling.next_sibling.next_sibling.next_sibling.next_sibling.\n",
    "                next_sibling.next_sibling.next_sibling.next_sibling).strip('\\r\\n'))\n",
    "\n",
    "        finishes.append(str(profile_class6.find('br').next_sibling.next_sibling.next_sibling.next_sibling.\n",
    "                next_sibling.next_sibling.next_sibling.next_sibling.next_sibling.next_sibling.next_sibling.\n",
    "                next_sibling.next_sibling.next_sibling.next_sibling.next_sibling.next_sibling.next_sibling.\n",
    "                next_sibling.next_sibling.next_sibling.next_sibling).strip('\\r\\n'))\n",
    "    else:\n",
    "        \n",
    "        for p in profile_class6.find_all('div'):\n",
    "\n",
    "\n",
    "            if (p.text == '\\nAppearance / Color'):\n",
    "\n",
    "                appearances.append(str(profile_class6.div.next_sibling.next_sibling.text).strip('\\r\\n\\t'))\n",
    "\n",
    "            elif (p.text == '\\nNose / Aroma / Smell'):\n",
    "                noses.append(str(profile_class6.div.next_sibling.next_sibling.next_sibling.\n",
    "                                 next_sibling.next_sibling.next_sibling.next_sibling.next_sibling.\n",
    "                                 text).strip('\\r\\n\\t'))\n",
    "\n",
    "            elif (p.text == '\\nFlavor / Taste / Palate'):\n",
    "                palates.append(str(profile_class6.div.next_sibling.next_sibling.next_sibling.\n",
    "                                   next_sibling.next_sibling.next_sibling.next_sibling.next_sibling.\n",
    "                                   next_sibling.next_sibling.next_sibling.next_sibling.next_sibling.\n",
    "                                   next_sibling.text).strip('\\r\\n\\t')) \n",
    "\n",
    "            elif (p.text == '\\nFinish'):\n",
    "                finishes.append(str(profile_class6.div.next_sibling.next_sibling.next_sibling.\n",
    "                                    next_sibling.next_sibling.next_sibling.next_sibling.next_sibling.\n",
    "                                    next_sibling.next_sibling.next_sibling.next_sibling.next_sibling.\n",
    "                                    next_sibling.next_sibling.next_sibling.next_sibling.next_sibling.\n",
    "                                    next_sibling.next_sibling.text).strip('\\r\\n\\t'))\n",
    "\n",
    "    \n"
   ]
  },
  {
   "cell_type": "code",
   "execution_count": 47,
   "id": "elect-drilling",
   "metadata": {},
   "outputs": [
    {
     "ename": "KeyError",
     "evalue": "0",
     "output_type": "error",
     "traceback": [
      "\u001b[0;31m---------------------------------------------------------------------------\u001b[0m",
      "\u001b[0;31mKeyError\u001b[0m                                  Traceback (most recent call last)",
      "\u001b[0;32m<ipython-input-47-79569ab6294f>\u001b[0m in \u001b[0;36m<module>\u001b[0;34m\u001b[0m\n\u001b[1;32m      6\u001b[0m     \u001b[0;32mfor\u001b[0m \u001b[0mn\u001b[0m \u001b[0;32min\u001b[0m \u001b[0mrange\u001b[0m\u001b[0;34m(\u001b[0m\u001b[0mlen\u001b[0m\u001b[0;34m(\u001b[0m\u001b[0mbottle_editions\u001b[0m\u001b[0;34m)\u001b[0m\u001b[0;34m)\u001b[0m\u001b[0;34m:\u001b[0m\u001b[0;34m\u001b[0m\u001b[0;34m\u001b[0m\u001b[0m\n\u001b[1;32m      7\u001b[0m \u001b[0;34m\u001b[0m\u001b[0m\n\u001b[0;32m----> 8\u001b[0;31m         \u001b[0mfor_to_write\u001b[0m\u001b[0;34m.\u001b[0m\u001b[0mwriterow\u001b[0m\u001b[0;34m(\u001b[0m\u001b[0;34m[\u001b[0m\u001b[0mbottle_edition\u001b[0m\u001b[0;34m[\u001b[0m\u001b[0mn\u001b[0m\u001b[0;34m]\u001b[0m\u001b[0;34m,\u001b[0m \u001b[0mappearances\u001b[0m\u001b[0;34m[\u001b[0m\u001b[0mn\u001b[0m\u001b[0;34m]\u001b[0m\u001b[0;34m,\u001b[0m \u001b[0mnoses\u001b[0m\u001b[0;34m[\u001b[0m\u001b[0mn\u001b[0m\u001b[0;34m]\u001b[0m\u001b[0;34m,\u001b[0m \u001b[0mpalates\u001b[0m\u001b[0;34m[\u001b[0m\u001b[0mn\u001b[0m\u001b[0;34m]\u001b[0m\u001b[0;34m,\u001b[0m \u001b[0mfinishes\u001b[0m\u001b[0;34m[\u001b[0m\u001b[0mn\u001b[0m\u001b[0;34m]\u001b[0m\u001b[0;34m]\u001b[0m\u001b[0;34m)\u001b[0m\u001b[0;34m\u001b[0m\u001b[0;34m\u001b[0m\u001b[0m\n\u001b[0m\u001b[1;32m      9\u001b[0m \u001b[0;34m\u001b[0m\u001b[0m\n",
      "\u001b[0;32m~/venv/scotch-content-recommender/lib/python3.9/site-packages/bs4/element.py\u001b[0m in \u001b[0;36m__getitem__\u001b[0;34m(self, key)\u001b[0m\n\u001b[1;32m   1404\u001b[0m         \"\"\"tag[key] returns the value of the 'key' attribute for the Tag,\n\u001b[1;32m   1405\u001b[0m         and throws an exception if it's not there.\"\"\"\n\u001b[0;32m-> 1406\u001b[0;31m         \u001b[0;32mreturn\u001b[0m \u001b[0mself\u001b[0m\u001b[0;34m.\u001b[0m\u001b[0mattrs\u001b[0m\u001b[0;34m[\u001b[0m\u001b[0mkey\u001b[0m\u001b[0;34m]\u001b[0m\u001b[0;34m\u001b[0m\u001b[0;34m\u001b[0m\u001b[0m\n\u001b[0m\u001b[1;32m   1407\u001b[0m \u001b[0;34m\u001b[0m\u001b[0m\n\u001b[1;32m   1408\u001b[0m     \u001b[0;32mdef\u001b[0m \u001b[0m__iter__\u001b[0m\u001b[0;34m(\u001b[0m\u001b[0mself\u001b[0m\u001b[0;34m)\u001b[0m\u001b[0;34m:\u001b[0m\u001b[0;34m\u001b[0m\u001b[0;34m\u001b[0m\u001b[0m\n",
      "\u001b[0;31mKeyError\u001b[0m: 0"
     ]
    }
   ],
   "source": [
    "with open('scotch_review.csv', 'w', newline = '') as f:\n",
    "    for_to_write = csv.writer(f)\n",
    "    \n",
    "    for_to_write.writerow(['edition', 'appearance', 'nose', 'palate', 'finish'])\n",
    "\n",
    "    for n in range(len(bottle_editions)):\n",
    "            \n",
    "        for_to_write.writerow([bottle_edition[n], appearances[n], noses[n], palates[n], finishes[n]])\n",
    "        "
   ]
  },
  {
   "cell_type": "code",
   "execution_count": 49,
   "id": "faced-kingdom",
   "metadata": {},
   "outputs": [
    {
     "ename": "KeyError",
     "evalue": "0",
     "output_type": "error",
     "traceback": [
      "\u001b[0;31m---------------------------------------------------------------------------\u001b[0m",
      "\u001b[0;31mKeyError\u001b[0m                                  Traceback (most recent call last)",
      "\u001b[0;32m<ipython-input-49-c6ac559d553f>\u001b[0m in \u001b[0;36m<module>\u001b[0;34m\u001b[0m\n\u001b[1;32m      6\u001b[0m     \u001b[0;32mfor\u001b[0m \u001b[0mn\u001b[0m \u001b[0;32min\u001b[0m \u001b[0mrange\u001b[0m\u001b[0;34m(\u001b[0m\u001b[0mlen\u001b[0m\u001b[0;34m(\u001b[0m\u001b[0mbottle_editions\u001b[0m\u001b[0;34m)\u001b[0m\u001b[0;34m)\u001b[0m\u001b[0;34m:\u001b[0m\u001b[0;34m\u001b[0m\u001b[0;34m\u001b[0m\u001b[0m\n\u001b[1;32m      7\u001b[0m \u001b[0;34m\u001b[0m\u001b[0m\n\u001b[0;32m----> 8\u001b[0;31m         for_to_write.writerow({'edition' : bottle_edition[n], 'appearance' : appearances[n],\n\u001b[0m\u001b[1;32m      9\u001b[0m                                'noses' : noses[n], 'palate' : palates[n], 'finish' : finishes[n]})\n\u001b[1;32m     10\u001b[0m \u001b[0;34m\u001b[0m\u001b[0m\n",
      "\u001b[0;32m~/venv/scotch-content-recommender/lib/python3.9/site-packages/bs4/element.py\u001b[0m in \u001b[0;36m__getitem__\u001b[0;34m(self, key)\u001b[0m\n\u001b[1;32m   1404\u001b[0m         \"\"\"tag[key] returns the value of the 'key' attribute for the Tag,\n\u001b[1;32m   1405\u001b[0m         and throws an exception if it's not there.\"\"\"\n\u001b[0;32m-> 1406\u001b[0;31m         \u001b[0;32mreturn\u001b[0m \u001b[0mself\u001b[0m\u001b[0;34m.\u001b[0m\u001b[0mattrs\u001b[0m\u001b[0;34m[\u001b[0m\u001b[0mkey\u001b[0m\u001b[0;34m]\u001b[0m\u001b[0;34m\u001b[0m\u001b[0;34m\u001b[0m\u001b[0m\n\u001b[0m\u001b[1;32m   1407\u001b[0m \u001b[0;34m\u001b[0m\u001b[0m\n\u001b[1;32m   1408\u001b[0m     \u001b[0;32mdef\u001b[0m \u001b[0m__iter__\u001b[0m\u001b[0;34m(\u001b[0m\u001b[0mself\u001b[0m\u001b[0;34m)\u001b[0m\u001b[0;34m:\u001b[0m\u001b[0;34m\u001b[0m\u001b[0;34m\u001b[0m\u001b[0m\n",
      "\u001b[0;31mKeyError\u001b[0m: 0"
     ]
    }
   ],
   "source": [
    "with open('scotch_review.csv', 'w', newline = '') as f:\n",
    "    field_names = ['edition', 'appearance', 'nose', 'palate', 'finish']\n",
    "    for_to_write = csv.DictWriter(f, fieldnames = field_names)\n",
    "    \n",
    "\n",
    "    for n in range(len(bottle_editions)):\n",
    "            \n",
    "        for_to_write.writerow({'edition' : bottle_edition[n], 'appearance' : appearances[n],\n",
    "                               'noses' : noses[n], 'palate' : palates[n], 'finish' : finishes[n]})\n",
    "        "
   ]
  },
  {
   "cell_type": "code",
   "execution_count": null,
   "id": "initial-reporter",
   "metadata": {},
   "outputs": [],
   "source": [
    "pickle.dump(profile_class6.text, open( \"tasting-notes.p\", \"wb\" ))\n",
    "#print(pickle.load(open( \"tasting-notes.p\", \"rb\" )))\n",
    "\n",
    "\n",
    "\n",
    "pickle.dump(bottle_editions, open( \"bottle-editions.p\", \"wb\" ))\n",
    "#print(pickle.load(open( \"bottle-editions.p\", \"rb\" )))"
   ]
  }
 ],
 "metadata": {
  "kernelspec": {
   "display_name": "Python 3",
   "language": "python",
   "name": "python3"
  },
  "language_info": {
   "codemirror_mode": {
    "name": "ipython",
    "version": 3
   },
   "file_extension": ".py",
   "mimetype": "text/x-python",
   "name": "python",
   "nbconvert_exporter": "python",
   "pygments_lexer": "ipython3",
   "version": "3.9.2"
  }
 },
 "nbformat": 4,
 "nbformat_minor": 5
}
