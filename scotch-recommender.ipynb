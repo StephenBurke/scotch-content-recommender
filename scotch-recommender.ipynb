{
 "cells": [
  {
   "cell_type": "code",
   "execution_count": 2,
   "id": "eastern-storage",
   "metadata": {},
   "outputs": [],
   "source": [
    "# move this down\n",
    "import pandas as pd\n",
    "from sklearn.feature_extraction.text import TfidfVectorizer\n",
    "from sklearn.metrics.pairwise import linear_kernel \n",
    "ds = pd.read_csv('whiskey-reviews.csv')"
   ]
  },
  {
   "cell_type": "code",
   "execution_count": 3,
   "id": "compact-thriller",
   "metadata": {},
   "outputs": [],
   "source": [
    "import requests\n",
    "from bs4 import BeautifulSoup\n",
    "import re\n",
    "import pickle\n",
    "import csv\n",
    "import time"
   ]
  },
  {
   "cell_type": "code",
   "execution_count": 4,
   "id": "complex-location",
   "metadata": {},
   "outputs": [],
   "source": [
    "# Finds list of whiskey names\n",
    "'''\n",
    "URL1 = 'https://scotchnoob.com/reviews/?pagenum=1&dateFrom=11/10/2010&dateTo=04/11/2021&shownum=-1&orderBy=title&order=ASC&priceFrom=0&priceTo=-1&region=All&rating=All&tag_peated=false&tag_sherried=false&tag_indie=false'\n",
    "\n",
    "page1 = requests.get(URL1)\n",
    "\n",
    "pickle.dump(page1, open('list-of-bottles.p', 'wb'))'''\n",
    "\n",
    "page1 = pickle.load(open('list-of-bottles.p', 'rb'))\n",
    "\n",
    "soup1 = BeautifulSoup(page1.text, 'lxml')\n"
   ]
  },
  {
   "cell_type": "code",
   "execution_count": 29,
   "id": "demanding-declaration",
   "metadata": {},
   "outputs": [],
   "source": [
    "# Finds whiskey names\n",
    "whiskey_names = []\n",
    "\n",
    "name0 = soup1.find('div', {'id' : 'filter_results'})\n",
    "\n",
    "whiskey_names = name0.find_all('h4')\n",
    "\n",
    "\n",
    "for w in range(len(whiskey_names)):\n",
    "\n",
    "    whiskey_names[w] = whiskey_names[w].text\n",
    "\n",
    "\n",
    "\n",
    "\n",
    "# Finds whiskey urls\n",
    "\n",
    "whiskey_urls = []\n",
    "\n",
    "for tag in name0.find_all('a', href = True):\n",
    "   \n",
    "    if (str(tag['href']) == '/?page_id=264') : continue\n",
    "    whiskey_urls.append(str(tag['href']))\n",
    "\n",
    "\n",
    "\n",
    "# Finds description of whiskey\n",
    "\n",
    "whiskey_desc = []\n",
    "whiskey_files = []\n",
    "all_desc = []\n",
    "\n",
    "for r in range(len(whiskey_names)):\n",
    "    whiskey_files.append(str(whiskey_names[r]).replace(' ',''))\n",
    "    \n",
    "    if (whiskey_files[r] == 'TheBenRiach(19year)Peated/OlorosoFinish1994'): \n",
    "        page0 = pickle.load(open('pages/TheBenRiach(19year)Peated-OlorosoFinish1994.p', 'rb'))\n",
    "    \n",
    "    else:\n",
    "        page0 = pickle.load(open('pages/' + whiskey_files[r] + '.p', 'rb'))\n",
    "    \n",
    "    \n",
    "    soup0 = BeautifulSoup(page0.text, 'lxml')\n",
    " \n",
    "    \n",
    "    # Builds temp array to join and append to whiskey_desc array\n",
    "    \n",
    "    class0 = soup0.find('div', {'class' : 'entry-content'})\n",
    "    class1 = class0.find_all('p') \n",
    "    \n",
    "    whiskey_desc_mass = []\n",
    "    \n",
    "    for desc in class1: \n",
    "        whiskey_desc_mass.append(str(desc.text).replace(':', '').replace(',',''))\n",
    "        \n",
    "    whiskey_desc.append(''.join(all_desc_mass))\n",
    "    \n",
    "    \n",
    "    \n",
    "    "
   ]
  },
  {
   "cell_type": "code",
   "execution_count": 32,
   "id": "starting-phone",
   "metadata": {},
   "outputs": [],
   "source": [
    "whiskey_dict = {'id': whiskey_names, 'description': whiskey_desc}\n",
    "\n",
    "df = pd.DataFrame(whiskey_dict)\n",
    "\n",
    "df.to_csv('whiskey-reviews.csv')"
   ]
  },
  {
   "cell_type": "code",
   "execution_count": 31,
   "id": "dutch-spanking",
   "metadata": {},
   "outputs": [
    {
     "name": "stdout",
     "output_type": "stream",
     "text": [
      "509\n",
      "509\n"
     ]
    }
   ],
   "source": [
    "print(len(whiskey_names))\n",
    "print(len(whiskey_desc))"
   ]
  },
  {
   "cell_type": "code",
   "execution_count": 197,
   "id": "aerial-standard",
   "metadata": {},
   "outputs": [],
   "source": [
    "merged_whiskeys = []\n",
    "\n",
    "for i in range(len(whiskey_names)):\n",
    "    merged_whiskeys.append(str(whiskey_names[i]) + '-' + str(whiskey_desc[i]))\n",
    "\n",
    "    \n",
    "whiskey_dict = {'description': merged_whiskeys}\n",
    "\n",
    "df = pd.DataFrame(whiskey_dict)\n",
    "\n",
    "df.to_csv('merged-whiskey-reviews.csv')  "
   ]
  },
  {
   "cell_type": "code",
   "execution_count": 301,
   "id": "effective-average",
   "metadata": {},
   "outputs": [],
   "source": [
    "pickle.dump(whiskey_desc, open('whiskey-desc.p', 'wb'))\n",
    "pickle.dump(whiskey_names, open('whiskey-names.p', 'wb'))\n",
    "pickle.dump(whiskey_urls, open('whiskey-urls.p', 'wb'))\n",
    "pickle.dump(whiskey_dict, open('whiskey-dictionary.p', 'wb'))"
   ]
  },
  {
   "cell_type": "code",
   "execution_count": 25,
   "id": "effective-macro",
   "metadata": {},
   "outputs": [],
   "source": [
    "# For to test changes\n",
    "\n",
    "# Finds description of whiskey\n",
    "\n",
    "whiskey_desc_test = []\n",
    "whiskey_files_test = []\n",
    "all_desc = []\n",
    "\n",
    "for r in range(len(whiskey_names)):\n",
    "    whiskey_files_test.append(str(whiskey_names[r]).replace(' ',''))\n",
    "    \n",
    "    if (whiskey_files_test[r] == 'TheBenRiach(19year)Peated/OlorosoFinish1994'): \n",
    "        page0 = pickle.load(open('pages/TheBenRiach(19year)Peated-OlorosoFinish1994.p', 'rb'))\n",
    "    \n",
    "    else:\n",
    "        page0 = pickle.load(open('pages/' + whiskey_files_test[r] + '.p', 'rb'))\n",
    "    \n",
    "    \n",
    "    soup0 = BeautifulSoup(page0.text, 'lxml')\n",
    " \n",
    "    \n",
    "    # Builds temp array to join and append to whiskey_desc array\n",
    "    \n",
    "    class0 = soup0.find('div', {'class' : 'entry-content'})\n",
    "    class1 = class0.find_all('strong')\n",
    "    class2 = class0.find_all('p')\n",
    "    \n",
    "   \n",
    "    whiskey_desc_mass_test = []\n",
    "    \n",
    "    desc_start_check_test = False\n",
    "    desc_start_check_test_two = False \n",
    "    \n",
    "\n",
    "    \n",
    "    all_desc_mass = []\n",
    "    for free in class2: \n",
    "        all_desc_mass.append(str(free.text).replace(':', '').replace(',',''))\n",
    "        \n",
    "    all_desc.append(''.join(all_desc_mass))\n"
   ]
  },
  {
   "cell_type": "code",
   "execution_count": 26,
   "id": "generic-store",
   "metadata": {},
   "outputs": [
    {
     "name": "stdout",
     "output_type": "stream",
     "text": [
      "After just reviewing a port-finished bourbon I turn now to one of the (very few) other port-finished American whiskies the newly-released 1792 Port Finish bourbon (note that the bottle label and website has dropped the “Ridgemont Reserve” and the branding seems to be focusing on the “1792” part of the name). The same bourbon that goes into 1792 Small-Batch is aged for an additional 2 years in port wine barrels and then bottled at the odd choice of 44.45% ABV. The extra aging means a price premium so expect to shell out an additional $10 or so. That turns the very budget-friendly 1792 into a bit of a splurge for a bourbon.Nose Grape juice and grape jam on a bed of sweet corn and caramel. Quite sweet. After a rest in the glass a tart top note – like cranberry – creeps in.Palate A tad hot for ~44%. Grape Jolly Ranchers™ caramel-dipped apples and a slightly charcoal-flecked and dry bourbon profile.Finish Short. Oaky but not tannic. Echoes of sweet grape jam and semisweet chocolate. Fades quickly.With Water Water brings a little more nose tickle to the aroma without revealing anything new. The palate is a little softer. I suggest adding a touch of water and then letting it rest in the glass for a few minutes to reawaken the aroma.Overall Not quite as supple and polished as Angel’s Envy (the only other port-finished bourbon I’ve had) but successful in its own right. It takes a semi-robust dry bourbon and balances it nicely against a fruit-forward juicy sweet port. A win and well-priced but the port flavor disappears when used in cocktails which means this should be relegated to sipping or perhaps taken over ice. For cocktails stick to the basic 1792 Small Batch.\n"
     ]
    }
   ],
   "source": [
    "print(all_desc[0])"
   ]
  },
  {
   "cell_type": "code",
   "execution_count": 175,
   "id": "sixth-visit",
   "metadata": {},
   "outputs": [],
   "source": [
    "# Don't run this again!!\n",
    "# Don't delete, for posssible referance\n",
    "\n",
    "whiskey_files = []\n",
    "for r in range(len(whiskey_names)):\n",
    "    \n",
    "    URL0 = whiskey_urls[r]\n",
    "    \n",
    "    page0 = requests.get(URL0)\n",
    "    \n",
    "    \n",
    "    whiskey_files.append(str(whiskey_names[r]).replace(' ',''))\n",
    "    \n",
    "\n",
    "    if (whiskey_files[r] == 'TheBenRiach(19year)Peated/OlorosoFinish1994'): \n",
    "        pickle.dump(page0, open('pages/TheBenRiach(19year)Peated-OlorosoFinish1994.p', 'wb'))\n",
    "    \n",
    "    else:\n",
    "        pickle.dump(page0, open('pages/' + whiskey_files[r] + '.p', 'wb'))"
   ]
  }
 ],
 "metadata": {
  "kernelspec": {
   "display_name": "Python 3",
   "language": "python",
   "name": "python3"
  },
  "language_info": {
   "codemirror_mode": {
    "name": "ipython",
    "version": 3
   },
   "file_extension": ".py",
   "mimetype": "text/x-python",
   "name": "python",
   "nbconvert_exporter": "python",
   "pygments_lexer": "ipython3",
   "version": "3.9.2"
  }
 },
 "nbformat": 4,
 "nbformat_minor": 5
}
