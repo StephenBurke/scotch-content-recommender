{
 "cells": [
  {
   "cell_type": "code",
   "execution_count": 2,
   "id": "antique-festival",
   "metadata": {},
   "outputs": [],
   "source": [
    "# move this down\n",
    "import pandas as pd\n",
    "from sklearn.feature_extraction.text import TfidfVectorizer\n",
    "from sklearn.metrics.pairwise import linear_kernel \n",
    "ds = pd.read_csv('scotch_review.csv')"
   ]
  },
  {
   "cell_type": "code",
   "execution_count": 1,
   "id": "legislative-flashing",
   "metadata": {},
   "outputs": [],
   "source": [
    "import requests\n",
    "from bs4 import BeautifulSoup"
   ]
  },
  {
   "cell_type": "code",
   "execution_count": 7,
   "id": "cordless-attitude",
   "metadata": {},
   "outputs": [],
   "source": [
    "URL0 = 'https://flaviar.com/bottles/scotch'\n",
    "\n",
    "page0 = requests.get(URL0)\n",
    "\n",
    "soup0 = BeautifulSoup(page0.text)"
   ]
  },
  {
   "cell_type": "code",
   "execution_count": 47,
   "id": "needed-runner",
   "metadata": {},
   "outputs": [
    {
     "name": "stdout",
     "output_type": "stream",
     "text": [
      "<div class=\"col-lg-3 col-md-4 col-sm-6\">\n",
      "<a class=\"single-item bottle\" href=\"/naked-grouse/the-naked-grouse\">\n",
      "<div class=\"holder\">\n",
      "<div class=\"image flex flex--center flex--bottom-align lazy\" data-src=\"https://d256619kyxncpv.cloudfront.net/gui/img/2019/03/06/14/2019030614_15518809456441_fs.jpg\">\n",
      "<div><img alt=\"The Naked Grouse\" class=\"img-responsive lazy\" data-src=\"https://d256619kyxncpv.cloudfront.net/gui/img/2019/03/04/13/2019030413_the_naked_grouse_shadow_original.png\" src=\"data:image/gif;base64,R0lGODlhAQABAIAAAAAAAP///yH5BAEAAAAALAAAAAABAAEAAAIBRAA7\"/></div>\n",
      "<div class=\"zig-zag yellow\"></div>\n",
      "</div>\n",
      "<div class=\"about flex flex--space-between\">\n",
      "<div class=\"desc\">\n",
      "<div class=\"name\">The Naked Grouse</div>\n",
      "<div class=\"edition\">The Naked Grouse</div>\n",
      "<div class=\"type\">Scotch</div>\n",
      "</div>\n",
      "<div class=\"numbers flex flex--column flex__item-center\">\n",
      "<div class=\"rating\">\n",
      "<i aria-hidden=\"true\" class=\"fa fa-star\"></i><span class=\"valueRating\">7.2</span><span class=\"totalRating\">/10</span>\n",
      "</div>\n",
      "<div>\n",
      "<div class=\"price\">$34.99</div>\n",
      "</div>\n",
      "</div>\n",
      "</div>\n",
      "<div class=\"single-hover-bottle\"></div>\n",
      "</div>\n",
      "</a>\n",
      "</div>\n"
     ]
    },
    {
     "ename": "AttributeError",
     "evalue": "'NoneType' object has no attribute 'find'",
     "output_type": "error",
     "traceback": [
      "\u001b[0;31m---------------------------------------------------------------------------\u001b[0m",
      "\u001b[0;31mAttributeError\u001b[0m                            Traceback (most recent call last)",
      "\u001b[0;32m<ipython-input-47-48710b09588c>\u001b[0m in \u001b[0;36m<module>\u001b[0;34m\u001b[0m\n\u001b[1;32m     16\u001b[0m \u001b[0;32mfor\u001b[0m \u001b[0mn\u001b[0m \u001b[0;32min\u001b[0m \u001b[0mclass7\u001b[0m\u001b[0;34m:\u001b[0m\u001b[0;34m\u001b[0m\u001b[0;34m\u001b[0m\u001b[0m\n\u001b[1;32m     17\u001b[0m     \u001b[0mclass8\u001b[0m \u001b[0;34m=\u001b[0m \u001b[0mn\u001b[0m\u001b[0;34m.\u001b[0m\u001b[0mfind\u001b[0m\u001b[0;34m(\u001b[0m\u001b[0;34m'div'\u001b[0m\u001b[0;34m,\u001b[0m \u001b[0;34m{\u001b[0m\u001b[0;34m'class'\u001b[0m\u001b[0;34m:\u001b[0m \u001b[0;34m'single-item bottle'\u001b[0m\u001b[0;34m}\u001b[0m\u001b[0;34m)\u001b[0m\u001b[0;34m\u001b[0m\u001b[0;34m\u001b[0m\u001b[0m\n\u001b[0;32m---> 18\u001b[0;31m     \u001b[0mclass9\u001b[0m \u001b[0;34m=\u001b[0m \u001b[0mclass8\u001b[0m\u001b[0;34m.\u001b[0m\u001b[0mfind\u001b[0m\u001b[0;34m(\u001b[0m\u001b[0;34m'div'\u001b[0m\u001b[0;34m,\u001b[0m \u001b[0;34m{\u001b[0m\u001b[0;34m'class'\u001b[0m\u001b[0;34m:\u001b[0m \u001b[0;34m'holder'\u001b[0m\u001b[0;34m}\u001b[0m\u001b[0;34m)\u001b[0m\u001b[0;34m\u001b[0m\u001b[0;34m\u001b[0m\u001b[0m\n\u001b[0m\u001b[1;32m     19\u001b[0m     \u001b[0mclass10\u001b[0m \u001b[0;34m=\u001b[0m \u001b[0mclass9\u001b[0m\u001b[0;34m.\u001b[0m\u001b[0mfind\u001b[0m\u001b[0;34m(\u001b[0m\u001b[0;34m'div'\u001b[0m\u001b[0;34m,\u001b[0m \u001b[0;34m{\u001b[0m\u001b[0;34m'class'\u001b[0m\u001b[0;34m:\u001b[0m \u001b[0;34m'about flex flex--space-between'\u001b[0m\u001b[0;34m}\u001b[0m\u001b[0;34m)\u001b[0m\u001b[0;34m\u001b[0m\u001b[0;34m\u001b[0m\u001b[0m\n\u001b[1;32m     20\u001b[0m     \u001b[0mclass11\u001b[0m \u001b[0;34m=\u001b[0m \u001b[0mclass10\u001b[0m\u001b[0;34m.\u001b[0m\u001b[0mfind\u001b[0m\u001b[0;34m(\u001b[0m\u001b[0;34m'div'\u001b[0m\u001b[0;34m,\u001b[0m \u001b[0;34m{\u001b[0m\u001b[0;34m'class'\u001b[0m\u001b[0;34m:\u001b[0m \u001b[0;34m'desc'\u001b[0m\u001b[0;34m}\u001b[0m\u001b[0;34m)\u001b[0m\u001b[0;34m\u001b[0m\u001b[0;34m\u001b[0m\u001b[0m\n",
      "\u001b[0;31mAttributeError\u001b[0m: 'NoneType' object has no attribute 'find'"
     ]
    }
   ],
   "source": [
    "#list_items = soup0.find('ol', {'class': 'as_table_block'})\n",
    "\n",
    "bottle_names = []\n",
    "\n",
    "\n",
    "class0 = soup0.find('div', {'id': 'content', 'class': 'overflow-hidden'})\n",
    "class1 = class0.find('div', {'class': 'fullWidth pattern-bg sand-bg-mobile padding-top-50 padding-top-mobile-40 padding-bottom-50'})\n",
    "class2 = class1.find('div', {'class': 'container'})\n",
    "class3 = class2.find('div', {'class': 'row'})\n",
    "class4 = class3.find('div', {'class': 'col-md-12'})\n",
    "class5 = class4.find('div', {'id': 'previousboxes', 'class': 'row margin-left-0 margin-right-0 padding-left-mobile-10 padding-right-mobile-10 bottles'})\n",
    "class6 = class5.find('div', {'class': 'row'})\n",
    "class7 = class6.find_all('div', {'class': 'col-lg-3 col-md-4 col-sm-6'})\n",
    "print(n)\n",
    "\n",
    "for a in class7:\n",
    "    class8 = a.find('div', {'class': 'single-item bottle'})\n",
    "    class9 = class8.find('div', {'class': 'holder'})\n",
    "    class10 = class9.find('div', {'class': 'about flex flex--space-between'})\n",
    "    class11 = class10.find('div', {'class': 'desc'})\n",
    "    bottle_name = class11.find('div', {'class': 'name'})\n",
    "    bottle_names.append(bottle_name.text)\n",
    "print(bottle_container)\n",
    "\n",
    "\n"
   ]
  }
 ],
 "metadata": {
  "kernelspec": {
   "display_name": "Python 3",
   "language": "python",
   "name": "python3"
  },
  "language_info": {
   "codemirror_mode": {
    "name": "ipython",
    "version": 3
   },
   "file_extension": ".py",
   "mimetype": "text/x-python",
   "name": "python",
   "nbconvert_exporter": "python",
   "pygments_lexer": "ipython3",
   "version": "3.9.2"
  }
 },
 "nbformat": 4,
 "nbformat_minor": 5
}
