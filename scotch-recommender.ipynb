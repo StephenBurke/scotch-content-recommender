{
 "cells": [
  {
   "cell_type": "code",
   "execution_count": 1,
   "id": "italic-helmet",
   "metadata": {},
   "outputs": [],
   "source": [
    "# move this down\n",
    "import pandas as pd\n",
    "from sklearn.feature_extraction.text import TfidfVectorizer\n",
    "from sklearn.metrics.pairwise import linear_kernel \n",
    "ds = pd.read_csv('scotch_review.csv')"
   ]
  },
  {
   "cell_type": "code",
   "execution_count": 2,
   "id": "liberal-funds",
   "metadata": {},
   "outputs": [],
   "source": [
    "import requests\n",
    "from bs4 import BeautifulSoup\n",
    "import re\n",
    "import pickle"
   ]
  },
  {
   "cell_type": "code",
   "execution_count": 3,
   "id": "theoretical-database",
   "metadata": {},
   "outputs": [],
   "source": [
    "URL0 = 'https://flaviar.com/bottles/scotch'\n",
    "\n",
    "page0 = requests.get(URL0)\n",
    "\n",
    "soup0 = BeautifulSoup(page0.text, 'lxml')"
   ]
  },
  {
   "cell_type": "code",
   "execution_count": 60,
   "id": "prepared-acquisition",
   "metadata": {},
   "outputs": [],
   "source": [
    "# scraps website for bottle edition\n",
    "\n",
    "bottle_names = []\n",
    "bottle_editions = []\n",
    "bottle_types = []\n",
    "\n",
    "\n",
    "\n",
    "class0 = soup0.find('div', {'id': 'content', 'class': 'overflow-hidden'})\n",
    "class1 = class0.find('div', {'class': 'fullWidth pattern-bg sand-bg-mobile padding-top-50 padding-top-mobile-40 padding-bottom-50'})\n",
    "class2 = class1.find('div', {'class': 'container'})\n",
    "class3 = class2.find('div', {'class': 'row'})\n",
    "class4 = class3.find('div', {'class': 'col-md-12'})\n",
    "class5 = class4.find('div', {'id': 'previousboxes', 'class': 'row margin-left-0 margin-right-0 padding-left-mobile-10 padding-right-mobile-10 bottles'})\n",
    "class6 = class5.find('div', {'class': 'row'})\n",
    "class7 = class6.find_all('div', {'class': 'col-lg-3 col-md-4 col-sm-6'})\n",
    "\n",
    "\n",
    "for i in class7:\n",
    "    class8 = i.find('a', {'class': 'single-item bottle'})    \n",
    "    class9 = class8.find('div', {'class': 'holder'})\n",
    "    class10 = class9.find('div', {'class': 'about flex flex--space-between'})\n",
    "    class11 = class10.find('div', {'class': 'desc'})\n",
    "    \n",
    "    bottle_name = class11.find('div', {'class': 'name'})\n",
    "    bottle_edition = class11.find('div', {'class': 'edition'})\n",
    "    bottle_type = class11.find('div', {'class': 'type'})\n",
    "    \n",
    "    bottle_names.append(bottle_name.text.replace(\"'\",\"\").replace(' ','-'))\n",
    "    bottle_editions.append(bottle_edition.text.replace(\"'\",\"\").replace(' ','-'))\n",
    "    bottle_types.append(bottle_type.text)\n",
    "    \n",
    "\n"
   ]
  },
  {
   "cell_type": "code",
   "execution_count": 61,
   "id": "affecting-beaver",
   "metadata": {},
   "outputs": [],
   "source": [
    "# Creates url for all editions in selected bottle type(s)\n",
    "# Type choosen when URL0 is defined\n",
    "\n",
    "url_editions = []\n",
    "BOTTLE_COUNT = len(bottle_editions)\n",
    "for n in range(BOTTLE_COUNT):\n",
    "    url_editions.append((str('https://flaviar.com/' + bottle_names[n] + '/' + bottle_editions[n])))\n",
    "    "
   ]
  },
  {
   "cell_type": "code",
   "execution_count": 62,
   "id": "excited-latex",
   "metadata": {},
   "outputs": [
    {
     "name": "stdout",
     "output_type": "stream",
     "text": [
      "https://flaviar.com/The-Naked-Grouse/The-Naked-Grouse\n"
     ]
    }
   ],
   "source": [
    "print(url_editions[0])"
   ]
  },
  {
   "cell_type": "code",
   "execution_count": null,
   "id": "uniform-looking",
   "metadata": {},
   "outputs": [],
   "source": [
    "\n",
    "appearances = []\n",
    "noses = []\n",
    "palates = []\n",
    "finishes = []\n",
    "\n",
    "for url in range(len(url_editions)):\n",
    "    \n",
    "    \n",
    "    URL1 = url_editions[url]\n",
    "    \n",
    "    page1 = requests.get(URL1)\n",
    "\n",
    "    soup1 = BeautifulSoup(page1.text, 'lxml')\n",
    "    \n",
    "    \n",
    "    \n",
    "    \n",
    "    profile_class0 = soup1.find('div', {'id': 'content', 'class': 'overflow-hidden'})\n",
    "    profile_class1 = profile_class0.find('div', {'id': 'info', 'class': 'container'})\n",
    "    profile_class2 = profile_class1.find('div', {'class': 'row shrink flex flex--stretch margin-bottom-50 margin-bottom-mobile-0'})\n",
    "    profile_class3 = profile_class2.find('div', {'class': 'col-md-8 col-sm-12 col-xs-12 element info-description flex _flex-2 fit2EdgeOnMobile'})\n",
    "    profile_class4 = profile_class3.find('div', {'class': 'introduce pattern-bg equal moduleTabs collapsable-content-box'})\n",
    "    profile_class5 = profile_class4.find('div', {'id': 'tasting-notes','class': 'body collapse in more-body-padding'})\n",
    "    profile_class6 = profile_class5.find('div', {'class': 'p-content'})\n",
    "    \n",
    "    \n",
    "    #print(profile_class6)\n",
    "    \n",
    "    for p in profile_class6.find_all('div'):\n",
    "\n",
    "        if (p.text == '\\nAppearance / Color'):\n",
    "            appearances.append(str(profile_class6.div.next_sibling.next_sibling.text).strip('\\r\\n\\t'))\n",
    "\n",
    "        elif (p.text == '\\nNose / Aroma / Smell'):\n",
    "            noses.append(str(profile_class6.div.next_sibling.next_sibling.next_sibling.\n",
    "                             next_sibling.next_sibling.next_sibling.next_sibling.next_sibling.\n",
    "                             text).strip('\\r\\n\\t'))\n",
    "\n",
    "        elif (p.text == '\\nFlavor / Taste / Palate'):\n",
    "            palates.append(str(profile_class6.div.next_sibling.next_sibling.next_sibling.\n",
    "                               next_sibling.next_sibling.next_sibling.next_sibling.next_sibling.\n",
    "                               next_sibling.next_sibling.next_sibling.next_sibling.next_sibling.\n",
    "                               next_sibling.text).strip('\\r\\n\\t')) \n",
    "\n",
    "        elif (p.text == '\\nFinish'):\n",
    "            finishes.append(str(profile_class6.div.next_sibling.next_sibling.next_sibling.\n",
    "                                next_sibling.next_sibling.next_sibling.next_sibling.next_sibling.\n",
    "                                next_sibling.next_sibling.next_sibling.next_sibling.next_sibling.\n",
    "                                next_sibling.next_sibling.next_sibling.next_sibling.next_sibling.\n",
    "                                next_sibling.next_sibling.text).strip('\\r\\n\\t'))\n",
    "\n",
    "\n",
    "print(appearances)\n",
    "print(noses)\n",
    "print(palates)\n",
    "print(finishes)\n",
    "    "
   ]
  },
  {
   "cell_type": "code",
   "execution_count": 50,
   "id": "military-lambda",
   "metadata": {},
   "outputs": [
    {
     "name": "stdout",
     "output_type": "stream",
     "text": [
      "Slightly spicy nose, toffee apples, ripe autumn fruits combined with red berry sharpness. Some golden syrup sweetness and an interesting yeasty note. Adding water brings up sweet chestnut and a whiff of smoke. \n"
     ]
    }
   ],
   "source": [
    "print(noses[2])"
   ]
  },
  {
   "cell_type": "code",
   "execution_count": null,
   "id": "bacterial-image",
   "metadata": {},
   "outputs": [],
   "source": [
    "pickle.dump(profile_class6.text, open( \"tasting-notes.p\", \"wb\" ))\n",
    "#print(pickle.load(open( \"tasting-notes.p\", \"rb\" )))\n",
    "\n",
    "\n",
    "\n",
    "pickle.dump(bottle_editions, open( \"bottle-editions.p\", \"wb\" ))\n",
    "#print(pickle.load(open( \"bottle-editions.p\", \"rb\" )))"
   ]
  }
 ],
 "metadata": {
  "kernelspec": {
   "display_name": "Python 3",
   "language": "python",
   "name": "python3"
  },
  "language_info": {
   "codemirror_mode": {
    "name": "ipython",
    "version": 3
   },
   "file_extension": ".py",
   "mimetype": "text/x-python",
   "name": "python",
   "nbconvert_exporter": "python",
   "pygments_lexer": "ipython3",
   "version": "3.9.2"
  }
 },
 "nbformat": 4,
 "nbformat_minor": 5
}
