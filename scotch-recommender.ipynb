{
 "cells": [
  {
   "cell_type": "code",
   "execution_count": 1,
   "id": "acceptable-memorial",
   "metadata": {},
   "outputs": [],
   "source": [
    "# move this down\n",
    "import pandas as pd\n",
    "from sklearn.feature_extraction.text import TfidfVectorizer\n",
    "from sklearn.metrics.pairwise import linear_kernel \n",
    "ds = pd.read_csv('scotch_review.csv')"
   ]
  },
  {
   "cell_type": "code",
   "execution_count": 2,
   "id": "wrapped-lewis",
   "metadata": {},
   "outputs": [],
   "source": [
    "import requests\n",
    "from bs4 import BeautifulSoup\n",
    "import re\n",
    "import pickle\n",
    "import csv\n",
    "import time"
   ]
  },
  {
   "cell_type": "code",
   "execution_count": 26,
   "id": "average-research",
   "metadata": {},
   "outputs": [],
   "source": [
    "# Finds list of whiskey names\n",
    "\n",
    "URL1 = 'https://scotchnoob.com/reviews/?pagenum=1&dateFrom=11/10/2010&dateTo=04/11/2021&shownum=-1&orderBy=title&order=ASC&priceFrom=0&priceTo=-1&region=All&rating=All&tag_peated=false&tag_sherried=false&tag_indie=false'\n",
    "\n",
    "page1 = requests.get(URL1)\n",
    "\n",
    "soup1 = BeautifulSoup(page1.text, 'lxml')\n"
   ]
  },
  {
   "cell_type": "code",
   "execution_count": 128,
   "id": "promising-brain",
   "metadata": {},
   "outputs": [
    {
     "ename": "IndexError",
     "evalue": "list index out of range",
     "output_type": "error",
     "traceback": [
      "\u001b[0;31m---------------------------------------------------------------------------\u001b[0m",
      "\u001b[0;31mIndexError\u001b[0m                                Traceback (most recent call last)",
      "\u001b[0;32m<ipython-input-128-66d876f854b3>\u001b[0m in \u001b[0;36m<module>\u001b[0;34m\u001b[0m\n\u001b[1;32m      7\u001b[0m \u001b[0;32mfor\u001b[0m \u001b[0mw\u001b[0m \u001b[0;32min\u001b[0m \u001b[0mrange\u001b[0m\u001b[0;34m(\u001b[0m\u001b[0mlen\u001b[0m\u001b[0;34m(\u001b[0m\u001b[0mwhiskey_names_old\u001b[0m\u001b[0;34m)\u001b[0m\u001b[0;34m)\u001b[0m\u001b[0;34m:\u001b[0m\u001b[0;34m\u001b[0m\u001b[0;34m\u001b[0m\u001b[0m\n\u001b[1;32m      8\u001b[0m \u001b[0;34m\u001b[0m\u001b[0m\n\u001b[0;32m----> 9\u001b[0;31m     \u001b[0mwhiskey_names\u001b[0m\u001b[0;34m[\u001b[0m\u001b[0mw\u001b[0m\u001b[0;34m]\u001b[0m \u001b[0;34m=\u001b[0m \u001b[0mwhiskey_names\u001b[0m\u001b[0;34m[\u001b[0m\u001b[0mw\u001b[0m\u001b[0;34m]\u001b[0m\u001b[0;34m.\u001b[0m\u001b[0mtext\u001b[0m\u001b[0;34m\u001b[0m\u001b[0;34m\u001b[0m\u001b[0m\n\u001b[0m\u001b[1;32m     10\u001b[0m \u001b[0;34m\u001b[0m\u001b[0m\n\u001b[1;32m     11\u001b[0m \u001b[0;34m\u001b[0m\u001b[0m\n",
      "\u001b[0;31mIndexError\u001b[0m: list index out of range"
     ]
    }
   ],
   "source": [
    "# Finds whiskey names\n",
    "whiskey_names = []\n",
    "\n",
    "name0 = soup1.find('div', {'id' : 'filter_results'})\n",
    "\n",
    "whiskey_names_old = name0.find_all('h4')\n",
    "for w in range(len(whiskey_names_old)):\n",
    "    \n",
    "    whiskey_names[w] = whiskey_names[w].text\n",
    "\n",
    "\n",
    "\n",
    "# Finds whiskey urls\n",
    "\n",
    "whiskey_urls = []\n",
    "\n",
    "for tag in name0.find_all('a', href = True):\n",
    "    whiskey_urls.append(str(tag['href']))\n",
    "\n",
    "\n",
    "\n",
    "\n",
    "\n",
    "whiskey_desc = []\n",
    "\n",
    "\n",
    "for r in range(1):\n",
    "    \n",
    "    URL0 = whiskey_urls[r]\n",
    "    \n",
    "    page0 = requests.get(URL0)\n",
    "\n",
    "    soup0 = BeautifulSoup(page0.text, 'lxml')\n",
    "    \n",
    "    # Finds description of whiskey\n",
    "    \n",
    "    # Builds temp array to join and append to whiskey_desc array\n",
    "    class0 = soup0.find('div', {'class' : 'entry-content'})\n",
    "    class1 = class0.find_all('strong')\n",
    "    \n",
    "   \n",
    "    whiskey_desc_mass = []\n",
    "    for e in class1:\n",
    "        whiskey_desc_mass.append(e.next_sibling)\n",
    "    \n",
    "    [''.join(whiskey_desc_mass) for w in whiskey_desc_mass]\n",
    "    \n",
    "    whiskey_desc.append(whiskey_desc_mass)\n",
    "    \n",
    "    \n",
    "    \n",
    "print(whiskey_desc[0])  "
   ]
  },
  {
   "cell_type": "code",
   "execution_count": 68,
   "id": "prescribed-charger",
   "metadata": {},
   "outputs": [
    {
     "name": "stdout",
     "output_type": "stream",
     "text": [
      "https://scotchnoob.com/2016/10/10/1792-port-finish-bourbon/\n",
      "1792 Port Finish Bourbon \n"
     ]
    }
   ],
   "source": [
    "print(whiskey_urls[0])\n",
    "print(whiskey_names[0])"
   ]
  },
  {
   "cell_type": "code",
   "execution_count": 69,
   "id": "retained-harvard",
   "metadata": {},
   "outputs": [],
   "source": [
    "URL0 = whiskey_urls[0]\n",
    "\n",
    "page0 = requests.get(URL0)\n",
    "\n",
    "soup0 = BeautifulSoup(page0.text, 'lxml')"
   ]
  },
  {
   "cell_type": "code",
   "execution_count": 71,
   "id": "colonial-lodging",
   "metadata": {},
   "outputs": [
    {
     "name": "stdout",
     "output_type": "stream",
     "text": [
      ": Grape juice and grape jam, on a bed of sweet corn and caramel. Quite sweet. After a rest in the glass, a tart top note – like cranberry – creeps in.\n",
      ": A tad hot for ~44%. \n",
      ": Short. Oaky, but not tannic. Echoes of sweet grape jam and semisweet chocolate. Fades quickly.\n",
      ": Water brings a little more nose tickle to the aroma, without revealing anything new. The palate is a little softer. I suggest adding a touch of water and then letting it rest in the glass for a few minutes to reawaken the aroma.\n",
      ": Not quite as supple and polished as \n"
     ]
    }
   ],
   "source": [
    "# Finds description of whiskey\n",
    "\n",
    "class0 = soup0.find('div', {'class' : 'entry-content'})\n",
    "class1 = class0.find_all('strong')\n",
    "class2 = class0.find_all('p')\n",
    "\n",
    "for e in class1:\n",
    "    print(e.next_sibling)"
   ]
  },
  {
   "cell_type": "code",
   "execution_count": 113,
   "id": "unsigned-survey",
   "metadata": {},
   "outputs": [
    {
     "name": "stdout",
     "output_type": "stream",
     "text": [
      "[]\n"
     ]
    }
   ],
   "source": [
    "print(whiskey_desc)"
   ]
  },
  {
   "cell_type": "code",
   "execution_count": 127,
   "id": "wrong-ground",
   "metadata": {},
   "outputs": [
    {
     "name": "stdout",
     "output_type": "stream",
     "text": [
      "[': Grape juice and grape jam, on a bed of sweet corn and caramel. Quite sweet. After a rest in the glass, a tart top note – like cranberry – creeps in.', ': A tad hot for ~44%. ', ': Short. Oaky, but not tannic. Echoes of sweet grape jam and semisweet chocolate. Fades quickly.', ': Water brings a little more nose tickle to the aroma, without revealing anything new. The palate is a little softer. I suggest adding a touch of water and then letting it rest in the glass for a few minutes to reawaken the aroma.', ': Not quite as supple and polished as ']\n"
     ]
    }
   ],
   "source": [
    "whiskey_desc = []\n",
    "\n",
    "\n",
    "for r in range(1):\n",
    "    \n",
    "    URL0 = whiskey_urls[r]\n",
    "    \n",
    "    page0 = requests.get(URL0)\n",
    "\n",
    "    soup0 = BeautifulSoup(page0.text, 'lxml')\n",
    "    \n",
    "    # Finds description of whiskey\n",
    "    \n",
    "    # Builds temp array to join and append to whiskey_desc array\n",
    "    class0 = soup0.find('div', {'class' : 'entry-content'})\n",
    "    class1 = class0.find_all('strong')\n",
    "    \n",
    "   \n",
    "    whiskey_desc_mass = []\n",
    "    for e in class1:\n",
    "        whiskey_desc_mass.append(e.next_sibling)\n",
    "    \n",
    "    [''.join(whiskey_desc_mass) for w in whiskey_desc_mass]\n",
    "    \n",
    "    whiskey_desc.append(whiskey_desc_mass)\n",
    "    \n",
    "    \n",
    "    \n",
    "print(whiskey_desc[0])    \n",
    "\n",
    "\n"
   ]
  }
 ],
 "metadata": {
  "kernelspec": {
   "display_name": "Python 3",
   "language": "python",
   "name": "python3"
  },
  "language_info": {
   "codemirror_mode": {
    "name": "ipython",
    "version": 3
   },
   "file_extension": ".py",
   "mimetype": "text/x-python",
   "name": "python",
   "nbconvert_exporter": "python",
   "pygments_lexer": "ipython3",
   "version": "3.9.2"
  }
 },
 "nbformat": 4,
 "nbformat_minor": 5
}
