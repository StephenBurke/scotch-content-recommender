{
 "cells": [
  {
   "cell_type": "code",
   "execution_count": 1,
   "id": "compact-favorite",
   "metadata": {},
   "outputs": [],
   "source": [
    "# move this down\n",
    "import pandas as pd\n",
    "from sklearn.feature_extraction.text import TfidfVectorizer\n",
    "from sklearn.metrics.pairwise import linear_kernel \n",
    "ds = pd.read_csv('scotch_review.csv')"
   ]
  },
  {
   "cell_type": "code",
   "execution_count": 2,
   "id": "specific-converter",
   "metadata": {},
   "outputs": [],
   "source": [
    "import requests\n",
    "from bs4 import BeautifulSoup\n",
    "import re\n",
    "import pickle\n",
    "import csv\n",
    "import time"
   ]
  },
  {
   "cell_type": "code",
   "execution_count": 3,
   "id": "exceptional-cholesterol",
   "metadata": {},
   "outputs": [],
   "source": [
    "# Finds list of whiskey names\n",
    "\n",
    "URL1 = 'https://scotchnoob.com/reviews/?pagenum=1&dateFrom=11/10/2010&dateTo=04/11/2021&shownum=-1&orderBy=title&order=ASC&priceFrom=0&priceTo=-1&region=All&rating=All&tag_peated=false&tag_sherried=false&tag_indie=false'\n",
    "\n",
    "page1 = requests.get(URL1)\n",
    "\n",
    "soup1 = BeautifulSoup(page1.text, 'lxml')\n"
   ]
  },
  {
   "cell_type": "code",
   "execution_count": 105,
   "id": "coated-malawi",
   "metadata": {},
   "outputs": [],
   "source": [
    "# Finds whiskey names\n",
    "whiskey_names = []\n",
    "\n",
    "name0 = soup1.find('div', {'id' : 'filter_results'})\n",
    "\n",
    "whiskey_names = name0.find_all('h4')\n",
    "\n",
    "\n",
    "for w in range(len(whiskey_names)):\n",
    "\n",
    "    whiskey_names[w] = whiskey_names[w].text\n",
    "\n",
    "\n",
    "\n",
    "\n",
    "# Finds whiskey urls\n",
    "\n",
    "whiskey_urls = []\n",
    "\n",
    "for tag in name0.find_all('a', href = True):\n",
    "   \n",
    "    if (str(tag['href']) == '/?page_id=264') : continue\n",
    "    whiskey_urls.append(str(tag['href']))\n",
    "\n",
    "\n",
    "\n",
    "#Finds description of whiskey\n",
    "\n",
    "whiskey_desc = []\n",
    "\n",
    "\n",
    "for r in range(len(whiskey_names)):\n",
    "    \n",
    "    URL0 = whiskey_urls[r]\n",
    "    \n",
    "    page0 = requests.get(URL0)\n",
    "    \n",
    "    soup0 = BeautifulSoup(page0.text, 'lxml')\n",
    "    \n",
    "    # Finds description of whiskey\n",
    "    \n",
    "    # Builds temp array to join and append to whiskey_desc array\n",
    "    class0 = soup0.find('div', {'class' : 'entry-content'})\n",
    "    class1 = class0.find_all('strong')\n",
    "    \n",
    "   \n",
    "    whiskey_desc_mass = []\n",
    "    desc_start_check = False\n",
    "    \n",
    "    for e in range(len(class1)):\n",
    "         \n",
    "        if(class1[e].text == 'Nose' or desc_start_check == True):\n",
    "        \n",
    "            desc_start_check = True\n",
    "     \n",
    "            whiskey_desc_mass.append(class1[e].next_sibling)\n",
    "                \n",
    "        else:\n",
    "            continue\n",
    "           \n",
    "    \n",
    "        \n",
    "    [''.join(whiskey_desc_mass) for w in whiskey_desc_mass]\n",
    "    \n",
    "    \n",
    "    \n",
    "    whiskey_desc.append(whiskey_desc_mass)\n",
    "    \n"
   ]
  },
  {
   "cell_type": "code",
   "execution_count": 109,
   "id": "colonial-improvement",
   "metadata": {},
   "outputs": [
    {
     "name": "stdout",
     "output_type": "stream",
     "text": [
      "509\n"
     ]
    }
   ],
   "source": [
    "#pickle.dump(whiskey_desc, open('whiskey-desc.p','wb'))\n",
    "print(len(whiskey_desc))"
   ]
  }
 ],
 "metadata": {
  "kernelspec": {
   "display_name": "Python 3",
   "language": "python",
   "name": "python3"
  },
  "language_info": {
   "codemirror_mode": {
    "name": "ipython",
    "version": 3
   },
   "file_extension": ".py",
   "mimetype": "text/x-python",
   "name": "python",
   "nbconvert_exporter": "python",
   "pygments_lexer": "ipython3",
   "version": "3.9.2"
  }
 },
 "nbformat": 4,
 "nbformat_minor": 5
}
