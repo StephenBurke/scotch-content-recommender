{
 "cells": [
  {
   "cell_type": "code",
   "execution_count": 2,
   "id": "muslim-stack",
   "metadata": {},
   "outputs": [],
   "source": [
    "# move this down\n",
    "import pandas as pd\n",
    "from sklearn.feature_extraction.text import TfidfVectorizer\n",
    "from sklearn.metrics.pairwise import linear_kernel \n",
    "ds = pd.read_csv('scotch_review.csv')"
   ]
  },
  {
   "cell_type": "code",
   "execution_count": 1,
   "id": "sophisticated-classic",
   "metadata": {},
   "outputs": [],
   "source": [
    "import requests\n",
    "from bs4 import BeautifulSoup\n",
    "import re"
   ]
  },
  {
   "cell_type": "code",
   "execution_count": 2,
   "id": "close-operations",
   "metadata": {},
   "outputs": [],
   "source": [
    "URL0 = 'https://flaviar.com/bottles/scotch'\n",
    "\n",
    "page0 = requests.get(URL0)\n",
    "\n",
    "soup0 = BeautifulSoup(page0.text, 'lxml')"
   ]
  },
  {
   "cell_type": "code",
   "execution_count": 3,
   "id": "empty-summary",
   "metadata": {},
   "outputs": [],
   "source": [
    "bottle_names = []\n",
    "bottle_editions = []\n",
    "bottle_types = []\n",
    "\n",
    "\n",
    "\n",
    "class0 = soup0.find('div', {'id': 'content', 'class': 'overflow-hidden'})\n",
    "class1 = class0.find('div', {'class': 'fullWidth pattern-bg sand-bg-mobile padding-top-50 padding-top-mobile-40 padding-bottom-50'})\n",
    "class2 = class1.find('div', {'class': 'container'})\n",
    "class3 = class2.find('div', {'class': 'row'})\n",
    "class4 = class3.find('div', {'class': 'col-md-12'})\n",
    "class5 = class4.find('div', {'id': 'previousboxes', 'class': 'row margin-left-0 margin-right-0 padding-left-mobile-10 padding-right-mobile-10 bottles'})\n",
    "class6 = class5.find('div', {'class': 'row'})\n",
    "class7 = class6.find_all('div', {'class': 'col-lg-3 col-md-4 col-sm-6'})\n",
    "\n",
    "\n",
    "for i in class7:\n",
    "    class8 = i.find('a', {'class': 'single-item bottle'})    \n",
    "    class9 = class8.find('div', {'class': 'holder'})\n",
    "    class10 = class9.find('div', {'class': 'about flex flex--space-between'})\n",
    "    class11 = class10.find('div', {'class': 'desc'})\n",
    "    bottle_name = class11.find('div', {'class': 'name'})\n",
    "    bottle_edition = class11.find('div', {'class': 'edition'})\n",
    "    bottle_type = class11.find('div', {'class': 'type'})\n",
    "    \n",
    "    bottle_names.append(bottle_name.text)\n",
    "    bottle_editions.append(bottle_edition.text)\n",
    "    bottle_types.append(bottle_type.text)\n",
    "    \n",
    "\n"
   ]
  },
  {
   "cell_type": "code",
   "execution_count": 19,
   "id": "sitting-intro",
   "metadata": {},
   "outputs": [],
   "source": [
    "url_editions = []\n",
    "BOTTLE_COUNT = len(bottle_editions)\n",
    "for n in range(BOTTLE_COUNT):\n",
    "    url_editions.append((str('https://flaviar.com/' + bottle_names[n] + '/' + bottle_editions[n]).replace(' ','-')))\n",
    "    "
   ]
  },
  {
   "cell_type": "code",
   "execution_count": 20,
   "id": "impossible-orchestra",
   "metadata": {},
   "outputs": [
    {
     "name": "stdout",
     "output_type": "stream",
     "text": [
      "https://flaviar.com/The-Naked-Grouse/The-Naked-Grouse\n"
     ]
    }
   ],
   "source": [
    "print(url_editions[0])"
   ]
  }
 ],
 "metadata": {
  "kernelspec": {
   "display_name": "Python 3",
   "language": "python",
   "name": "python3"
  },
  "language_info": {
   "codemirror_mode": {
    "name": "ipython",
    "version": 3
   },
   "file_extension": ".py",
   "mimetype": "text/x-python",
   "name": "python",
   "nbconvert_exporter": "python",
   "pygments_lexer": "ipython3",
   "version": "3.9.2"
  }
 },
 "nbformat": 4,
 "nbformat_minor": 5
}
