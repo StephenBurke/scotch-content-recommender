{
 "cells": [
  {
   "cell_type": "code",
   "execution_count": 1,
   "id": "threatened-thought",
   "metadata": {},
   "outputs": [],
   "source": [
    "# move this down\n",
    "import pandas as pd\n",
    "from sklearn.feature_extraction.text import TfidfVectorizer\n",
    "from sklearn.metrics.pairwise import linear_kernel \n",
    "ds = pd.read_csv('scotch_review.csv')"
   ]
  },
  {
   "cell_type": "code",
   "execution_count": 2,
   "id": "static-argentina",
   "metadata": {},
   "outputs": [],
   "source": [
    "import requests\n",
    "from bs4 import BeautifulSoup\n",
    "import re\n",
    "import pickle"
   ]
  },
  {
   "cell_type": "code",
   "execution_count": 3,
   "id": "careful-brooklyn",
   "metadata": {},
   "outputs": [],
   "source": [
    "URL0 = 'https://flaviar.com/bottles/scotch'\n",
    "\n",
    "page0 = requests.get(URL0)\n",
    "\n",
    "soup0 = BeautifulSoup(page0.text, 'lxml')"
   ]
  },
  {
   "cell_type": "code",
   "execution_count": 4,
   "id": "sixth-event",
   "metadata": {},
   "outputs": [],
   "source": [
    "# scraps website for bottle edition\n",
    "\n",
    "bottle_names = []\n",
    "bottle_editions = []\n",
    "bottle_types = []\n",
    "\n",
    "\n",
    "\n",
    "class0 = soup0.find('div', {'id': 'content', 'class': 'overflow-hidden'})\n",
    "class1 = class0.find('div', {'class': 'fullWidth pattern-bg sand-bg-mobile padding-top-50 padding-top-mobile-40 padding-bottom-50'})\n",
    "class2 = class1.find('div', {'class': 'container'})\n",
    "class3 = class2.find('div', {'class': 'row'})\n",
    "class4 = class3.find('div', {'class': 'col-md-12'})\n",
    "class5 = class4.find('div', {'id': 'previousboxes', 'class': 'row margin-left-0 margin-right-0 padding-left-mobile-10 padding-right-mobile-10 bottles'})\n",
    "class6 = class5.find('div', {'class': 'row'})\n",
    "class7 = class6.find_all('div', {'class': 'col-lg-3 col-md-4 col-sm-6'})\n",
    "\n",
    "\n",
    "for i in class7:\n",
    "    class8 = i.find('a', {'class': 'single-item bottle'})    \n",
    "    class9 = class8.find('div', {'class': 'holder'})\n",
    "    class10 = class9.find('div', {'class': 'about flex flex--space-between'})\n",
    "    class11 = class10.find('div', {'class': 'desc'})\n",
    "    bottle_name = class11.find('div', {'class': 'name'})\n",
    "    bottle_edition = class11.find('div', {'class': 'edition'})\n",
    "    bottle_type = class11.find('div', {'class': 'type'})\n",
    "    \n",
    "    bottle_names.append(bottle_name.text)\n",
    "    bottle_editions.append(bottle_edition.text)\n",
    "    bottle_types.append(bottle_type.text)\n",
    "    \n",
    "\n"
   ]
  },
  {
   "cell_type": "code",
   "execution_count": 5,
   "id": "roman-gothic",
   "metadata": {},
   "outputs": [],
   "source": [
    "# Creates url for all editions in selected bottle type(s)\n",
    "# Type choosen when URL0 is defined\n",
    "\n",
    "url_editions = []\n",
    "BOTTLE_COUNT = len(bottle_editions)\n",
    "for n in range(BOTTLE_COUNT):\n",
    "    url_editions.append((str('https://flaviar.com/' + bottle_names[n] + '/' + bottle_editions[n]).replace(' ','-')))\n",
    "    "
   ]
  },
  {
   "cell_type": "code",
   "execution_count": 6,
   "id": "equipped-indicator",
   "metadata": {},
   "outputs": [
    {
     "name": "stdout",
     "output_type": "stream",
     "text": [
      "https://flaviar.com/The-Naked-Grouse/The-Naked-Grouse\n"
     ]
    }
   ],
   "source": [
    "print(url_editions[0])"
   ]
  },
  {
   "cell_type": "code",
   "execution_count": 7,
   "id": "departmental-chemistry",
   "metadata": {},
   "outputs": [
    {
     "ename": "SyntaxError",
     "evalue": "invalid syntax (<ipython-input-7-804cdea98d99>, line 25)",
     "output_type": "error",
     "traceback": [
      "\u001b[0;36m  File \u001b[0;32m\"<ipython-input-7-804cdea98d99>\"\u001b[0;36m, line \u001b[0;32m25\u001b[0m\n\u001b[0;31m    profile_class5 = profile_class4.find('id': 'tasting-notes','div', {'class': 'body collapse in more-body-padding'})\u001b[0m\n\u001b[0m                                             ^\u001b[0m\n\u001b[0;31mSyntaxError\u001b[0m\u001b[0;31m:\u001b[0m invalid syntax\n"
     ]
    }
   ],
   "source": [
    "appearances = []\n",
    "noses = []\n",
    "palates = []\n",
    "finishes = []\n",
    "\n",
    "\n",
    "\n",
    "\n",
    "\n",
    "for url in range(len(url_editions)):\n",
    "    \n",
    "    \n",
    "    URL1 = url_editions[url]\n",
    "    \n",
    "    page1 = requests.get(URL1)\n",
    "\n",
    "    soup1 = BeautifulSoup(page1.text, 'lxml')\n",
    "    \n",
    "    \n",
    "    profile_class0 = soup1.find('div', {'id': 'content', 'class': 'overflow-hidden'})\n",
    "    profile_class1 = profile_class0.find('div', {'id': 'info', 'class': 'container'})\n",
    "    profile_class2 = profile_class1.find('div', {'class': 'row shrink flex flex--stretch margin-bottom-50 margin-bottom-mobile-0'})\n",
    "    profile_class3 = profile_class2.find('div', {'class': 'col-md-8 col-sm-12 col-xs-12 element info-description flex _flex-2 fit2EdgeOnMobile'})\n",
    "    profile_class4 = profile_class3.find('div', {'class': 'introduce pattern-bg equal moduleTabs collapsable-content-box'})\n",
    "    profile_class5 = profile_class4.find('id': 'tasting-notes','div', {'class': 'body collapse in more-body-padding'})\n",
    "    profile_class6 = profile_class5.find('div', {'class': 'p-content'})\n",
    "    \n",
    "    \n",
    "    \n",
    "    \n",
    "profiles = [p for p in profile_class6]\n",
    "\n",
    "\n",
    "print('As list:\\n', profiles)\n",
    "print()\n"
   ]
  },
  {
   "cell_type": "code",
   "execution_count": 9,
   "id": "appreciated-carry",
   "metadata": {},
   "outputs": [
    {
     "name": "stdout",
     "output_type": "stream",
     "text": [
      "https://flaviar.com/The-Naked-Grouse/The-Naked-Grouse\n"
     ]
    }
   ],
   "source": [
    "#print(soup1)\n",
    "print(url_editions[0])\n",
    "#print(soup1.find('div', {'id': 'content', 'class': 'overflow-hidden'}))"
   ]
  },
  {
   "cell_type": "code",
   "execution_count": 10,
   "id": "treated-theta",
   "metadata": {},
   "outputs": [],
   "source": [
    "URL1 = url_editions[0]\n",
    "\n",
    "page1 = requests.get(URL1)\n",
    "\n",
    "soup1 = BeautifulSoup(page1.text, 'lxml')"
   ]
  },
  {
   "cell_type": "code",
   "execution_count": 41,
   "id": "intimate-shooting",
   "metadata": {},
   "outputs": [
    {
     "name": "stdout",
     "output_type": "stream",
     "text": [
      "As object:\n",
      "<div class=\"p-content\">\n",
      "<div>\n",
      "<strong>Appearance / Color</strong></div>\n",
      "<div>\n",
      "\tAmber</div>\n",
      "<div>\n",
      "\t </div>\n",
      "<div>\n",
      "<strong>Nose / Aroma / Smell</strong></div>\n",
      "<div>\n",
      "\tSmooth sherry aroma followed by notes of buttered toast, malt, peach and custard.</div>\n",
      "<div>\n",
      "\t </div>\n",
      "<div>\n",
      "<strong>Flavor / Taste / Palate</strong></div>\n",
      "<div>\n",
      "\tSherried palate with notes of toffee, sultanas, raspberry jam, custard and caramel.</div>\n",
      "<div>\n",
      "\t </div>\n",
      "<div>\n",
      "<strong>Finish</strong></div>\n",
      "<div>\n",
      "\tMedium finish with noes of oak and cocoa.</div>\n",
      "</div>\n"
     ]
    }
   ],
   "source": [
    "profile_class0 = soup1.find('div', {'id': 'content', 'class': 'overflow-hidden'})\n",
    "profile_class1 = profile_class0.find('div', {'id': 'info', 'class': 'container'})\n",
    "profile_class2 = profile_class1.find('div', {'class': 'row shrink flex flex--stretch margin-bottom-50 margin-bottom-mobile-0'})\n",
    "profile_class3 = profile_class2.find('div', {'class': 'col-md-8 col-sm-12 col-xs-12 element info-description flex _flex-2 fit2EdgeOnMobile'})\n",
    "profile_class4 = profile_class3.find('div', {'class': 'introduce pattern-bg equal moduleTabs collapsable-content-box'})\n",
    "profile_class5 = profile_class4.find('div', {'id': 'tasting-notes', 'class': 'body collapse in more-body-padding'})\n",
    "profile_class6 = profile_class5.find('div', {'class': 'p-content'})\n",
    "#profile_class7 = profile_class6.find('div', {'strong': 'Appearance / Color'})\n",
    "\n",
    "#appearances.append(profile_class7.\n",
    "\n",
    "#dir()\n",
    "\n",
    "\n",
    "\n",
    "#print(appearances)\n",
    "\n",
    "print('As object:\\n'+ str(profile_class6))"
   ]
  },
  {
   "cell_type": "code",
   "execution_count": 80,
   "id": "signed-latter",
   "metadata": {},
   "outputs": [
    {
     "name": "stdout",
     "output_type": "stream",
     "text": [
      "\n",
      "Appearance / Color\n",
      "\n",
      "Appearance / Color\n",
      "['\\r\\n\\tAmber']\n"
     ]
    }
   ],
   "source": [
    "appearances = []\n",
    "noses = []\n",
    "palates = []\n",
    "finishes = []\n",
    "\n",
    "\n",
    "profile_class7 = profile_class6.find('div').text\n",
    "print(profile_class7)\n",
    "\n",
    "if (profile_class7 == 'Appearance / Color'):\n",
    "    appearances.append(profile_class6.div.next_sibling.text)\n",
    "    print('This found something')\n",
    "   \n",
    "    \n",
    "appearances.append(profile_class6.div.next_sibling.next_sibling.text)\n",
    "    \n",
    "#appearances.append(profile_class6.next_sibling('div').text)\n",
    "print(profile_class7)\n",
    "print(appearances)"
   ]
  },
  {
   "cell_type": "code",
   "execution_count": 26,
   "id": "certain-machine",
   "metadata": {},
   "outputs": [],
   "source": [
    "pickle.dump(profile_class6.text, open( \"tasting-notes.p\", \"wb\" ))\n",
    "#print(pickle.load(open( \"tasting-notes.p\", \"rb\" )))\n",
    "\n",
    "\n",
    "\n",
    "pickle.dump(bottle_editions, open( \"bottle-editions.p\", \"wb\" ))\n",
    "#print(pickle.load(open( \"bottle-editions.p\", \"rb\" )))"
   ]
  },
  {
   "cell_type": "code",
   "execution_count": 29,
   "id": "retained-hostel",
   "metadata": {},
   "outputs": [
    {
     "data": {
      "text/plain": [
       "['__bool__',\n",
       " '__call__',\n",
       " '__class__',\n",
       " '__contains__',\n",
       " '__copy__',\n",
       " '__delattr__',\n",
       " '__delitem__',\n",
       " '__dict__',\n",
       " '__dir__',\n",
       " '__doc__',\n",
       " '__eq__',\n",
       " '__format__',\n",
       " '__ge__',\n",
       " '__getattr__',\n",
       " '__getattribute__',\n",
       " '__getitem__',\n",
       " '__gt__',\n",
       " '__hash__',\n",
       " '__init__',\n",
       " '__init_subclass__',\n",
       " '__iter__',\n",
       " '__le__',\n",
       " '__len__',\n",
       " '__lt__',\n",
       " '__module__',\n",
       " '__ne__',\n",
       " '__new__',\n",
       " '__reduce__',\n",
       " '__reduce_ex__',\n",
       " '__repr__',\n",
       " '__setattr__',\n",
       " '__setitem__',\n",
       " '__sizeof__',\n",
       " '__str__',\n",
       " '__subclasshook__',\n",
       " '__unicode__',\n",
       " '__weakref__',\n",
       " '_all_strings',\n",
       " '_find_all',\n",
       " '_find_one',\n",
       " '_is_xml',\n",
       " '_lastRecursiveChild',\n",
       " '_last_descendant',\n",
       " '_should_pretty_print',\n",
       " 'append',\n",
       " 'attrs',\n",
       " 'can_be_empty_element',\n",
       " 'cdata_list_attributes',\n",
       " 'childGenerator',\n",
       " 'children',\n",
       " 'clear',\n",
       " 'contents',\n",
       " 'decode',\n",
       " 'decode_contents',\n",
       " 'decompose',\n",
       " 'decomposed',\n",
       " 'descendants',\n",
       " 'encode',\n",
       " 'encode_contents',\n",
       " 'extend',\n",
       " 'extract',\n",
       " 'fetchNextSiblings',\n",
       " 'fetchParents',\n",
       " 'fetchPrevious',\n",
       " 'fetchPreviousSiblings',\n",
       " 'find',\n",
       " 'findAll',\n",
       " 'findAllNext',\n",
       " 'findAllPrevious',\n",
       " 'findChild',\n",
       " 'findChildren',\n",
       " 'findNext',\n",
       " 'findNextSibling',\n",
       " 'findNextSiblings',\n",
       " 'findParent',\n",
       " 'findParents',\n",
       " 'findPrevious',\n",
       " 'findPreviousSibling',\n",
       " 'findPreviousSiblings',\n",
       " 'find_all',\n",
       " 'find_all_next',\n",
       " 'find_all_previous',\n",
       " 'find_next',\n",
       " 'find_next_sibling',\n",
       " 'find_next_siblings',\n",
       " 'find_parent',\n",
       " 'find_parents',\n",
       " 'find_previous',\n",
       " 'find_previous_sibling',\n",
       " 'find_previous_siblings',\n",
       " 'format_string',\n",
       " 'formatter_for_name',\n",
       " 'get',\n",
       " 'getText',\n",
       " 'get_attribute_list',\n",
       " 'get_text',\n",
       " 'has_attr',\n",
       " 'has_key',\n",
       " 'hidden',\n",
       " 'index',\n",
       " 'insert',\n",
       " 'insert_after',\n",
       " 'insert_before',\n",
       " 'isSelfClosing',\n",
       " 'is_empty_element',\n",
       " 'known_xml',\n",
       " 'name',\n",
       " 'namespace',\n",
       " 'next',\n",
       " 'nextGenerator',\n",
       " 'nextSibling',\n",
       " 'nextSiblingGenerator',\n",
       " 'next_element',\n",
       " 'next_elements',\n",
       " 'next_sibling',\n",
       " 'next_siblings',\n",
       " 'parent',\n",
       " 'parentGenerator',\n",
       " 'parents',\n",
       " 'parserClass',\n",
       " 'parser_class',\n",
       " 'prefix',\n",
       " 'preserve_whitespace_tags',\n",
       " 'prettify',\n",
       " 'previous',\n",
       " 'previousGenerator',\n",
       " 'previousSibling',\n",
       " 'previousSiblingGenerator',\n",
       " 'previous_element',\n",
       " 'previous_elements',\n",
       " 'previous_sibling',\n",
       " 'previous_siblings',\n",
       " 'recursiveChildGenerator',\n",
       " 'renderContents',\n",
       " 'replaceWith',\n",
       " 'replaceWithChildren',\n",
       " 'replace_with',\n",
       " 'replace_with_children',\n",
       " 'select',\n",
       " 'select_one',\n",
       " 'setup',\n",
       " 'smooth',\n",
       " 'string',\n",
       " 'strings',\n",
       " 'stripped_strings',\n",
       " 'text',\n",
       " 'unwrap',\n",
       " 'wrap']"
      ]
     },
     "execution_count": 29,
     "metadata": {},
     "output_type": "execute_result"
    }
   ],
   "source": [
    "dir(profile_class6)"
   ]
  }
 ],
 "metadata": {
  "kernelspec": {
   "display_name": "Python 3",
   "language": "python",
   "name": "python3"
  },
  "language_info": {
   "codemirror_mode": {
    "name": "ipython",
    "version": 3
   },
   "file_extension": ".py",
   "mimetype": "text/x-python",
   "name": "python",
   "nbconvert_exporter": "python",
   "pygments_lexer": "ipython3",
   "version": "3.9.2"
  }
 },
 "nbformat": 4,
 "nbformat_minor": 5
}
