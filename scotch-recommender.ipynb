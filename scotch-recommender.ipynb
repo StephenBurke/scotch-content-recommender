{
 "cells": [
  {
   "cell_type": "code",
   "execution_count": 1,
   "id": "fabulous-tower",
   "metadata": {},
   "outputs": [],
   "source": [
    "# move this down\n",
    "import pandas as pd\n",
    "from sklearn.feature_extraction.text import TfidfVectorizer\n",
    "from sklearn.metrics.pairwise import linear_kernel \n",
    "ds = pd.read_csv('scotch_review.csv')"
   ]
  },
  {
   "cell_type": "code",
   "execution_count": 2,
   "id": "congressional-seeking",
   "metadata": {},
   "outputs": [],
   "source": [
    "import requests\n",
    "from bs4 import BeautifulSoup\n",
    "import re\n",
    "import pickle\n",
    "import csv\n",
    "import time"
   ]
  },
  {
   "cell_type": "code",
   "execution_count": 3,
   "id": "fifth-treaty",
   "metadata": {},
   "outputs": [],
   "source": [
    "# Finds list of whiskey names\n",
    "\n",
    "URL1 = 'https://scotchnoob.com/reviews/?pagenum=1&dateFrom=11/10/2010&dateTo=04/11/2021&shownum=-1&orderBy=title&order=ASC&priceFrom=0&priceTo=-1&region=All&rating=All&tag_peated=false&tag_sherried=false&tag_indie=false'\n",
    "\n",
    "page1 = requests.get(URL1)\n",
    "\n",
    "soup1 = BeautifulSoup(page1.text, 'lxml')\n"
   ]
  },
  {
   "cell_type": "code",
   "execution_count": 25,
   "id": "common-colony",
   "metadata": {},
   "outputs": [],
   "source": [
    "# Finds whiskey names\n",
    "whiskey_names = []\n",
    "\n",
    "name0 = soup1.find('div', {'id' : 'filter_results'})\n",
    "\n",
    "whiskey_names = name0.find_all('h4')\n",
    "\n",
    "#print(len(whiskey_names_old))\n",
    "for w in range(len(whiskey_names)):\n",
    "\n",
    "    whiskey_names[w] = whiskey_names[w].text\n",
    "\n"
   ]
  },
  {
   "cell_type": "code",
   "execution_count": 38,
   "id": "little-tissue",
   "metadata": {},
   "outputs": [
    {
     "name": "stdout",
     "output_type": "stream",
     "text": [
      "509\n"
     ]
    }
   ],
   "source": [
    "# Finds whiskey urls\n",
    "\n",
    "whiskey_urls = []\n",
    "\n",
    "for tag in name0.find_all('a', href = True):\n",
    "   \n",
    "    if (str(tag['href']) == '/?page_id=264') : continue\n",
    "    whiskey_urls.append(str(tag['href']))\n",
    "\n",
    "\n",
    "print(len(whiskey_urls))"
   ]
  },
  {
   "cell_type": "code",
   "execution_count": 39,
   "id": "periodic-heather",
   "metadata": {},
   "outputs": [
    {
     "name": "stdout",
     "output_type": "stream",
     "text": [
      "509\n",
      "509\n",
      "0\n"
     ]
    }
   ],
   "source": [
    "print(len(whiskey_urls))\n",
    "print(len(whiskey_names))\n",
    "print(len(whiskey_desc))"
   ]
  },
  {
   "cell_type": "code",
   "execution_count": null,
   "id": "indonesian-positive",
   "metadata": {},
   "outputs": [],
   "source": [
    "\n",
    "whiskey_desc = []\n",
    "\n",
    "\n",
    "for r in range(len(whiskey_urls)):\n",
    "    \n",
    "    URL0 = whiskey_urls[r]\n",
    "    \n",
    "    page0 = requests.get(URL0)\n",
    "\n",
    "    soup0 = BeautifulSoup(page0.text, 'lxml')\n",
    "    \n",
    "    pickle.dump(soup0, open('soups/' + whiskey_names[r] + '.p', 'wb'))\n",
    "    \n",
    "    # Finds description of whiskey\n",
    "    \n",
    "    # Builds temp array to join and append to whiskey_desc array\n",
    "    class0 = soup0.find('div', {'class' : 'entry-content'})\n",
    "    class1 = class0.find_all('strong')\n",
    "    \n",
    "   \n",
    "    whiskey_desc_mass = []\n",
    "    for e in class1:\n",
    "        whiskey_desc_mass.append(e.next_sibling)\n",
    "    \n",
    "    [''.join(whiskey_desc_mass) for w in whiskey_desc_mass]\n",
    "    \n",
    "    whiskey_desc.append(whiskey_desc_mass)\n",
    "    "
   ]
  },
  {
   "cell_type": "code",
   "execution_count": 22,
   "id": "raised-terrace",
   "metadata": {},
   "outputs": [
    {
     "name": "stdout",
     "output_type": "stream",
     "text": [
      "[': Grape juice and grape jam, on a bed of sweet corn and caramel. Quite sweet. After a rest in the glass, a tart top note – like cranberry – creeps in.', ': A tad hot for ~44%. ', ': Short. Oaky, but not tannic. Echoes of sweet grape jam and semisweet chocolate. Fades quickly.', ': Water brings a little more nose tickle to the aroma, without revealing anything new. The palate is a little softer. I suggest adding a touch of water and then letting it rest in the glass for a few minutes to reawaken the aroma.', ': Not quite as supple and polished as ']\n"
     ]
    }
   ],
   "source": [
    "print(whiskey_desc[0])"
   ]
  },
  {
   "cell_type": "code",
   "execution_count": null,
   "id": "smart-twist",
   "metadata": {},
   "outputs": [],
   "source": [
    "# Finds whiskey names\n",
    "whiskey_names = []\n",
    "\n",
    "name0 = soup1.find('div', {'id' : 'filter_results'})\n",
    "\n",
    "whiskey_names_old = name0.find_all('h4')\n",
    "\n",
    "print(whiskey_names_old)\n",
    "for w in range(len(whiskey_names_old)):\n",
    "    print(w)\n",
    "    whiskey_names[w] = whiskey_names_old[w].text\n",
    "\n",
    "\n",
    "\n",
    "# Finds whiskey urls\n",
    "\n",
    "whiskey_urls = []\n",
    "\n",
    "for tag in name0.find_all('a', href = True):\n",
    "    whiskey_urls.append(str(tag['href']))\n",
    "\n",
    "\n",
    "\n",
    "\n",
    "\n",
    "whiskey_desc = []\n",
    "\n",
    "\n",
    "for r in range(1):\n",
    "    \n",
    "    URL0 = whiskey_urls[r]\n",
    "    \n",
    "    page0 = requests.get(URL0)\n",
    "\n",
    "    soup0 = BeautifulSoup(page0.text, 'lxml')\n",
    "    \n",
    "    # Finds description of whiskey\n",
    "    \n",
    "    # Builds temp array to join and append to whiskey_desc array\n",
    "    class0 = soup0.find('div', {'class' : 'entry-content'})\n",
    "    class1 = class0.find_all('strong')\n",
    "    \n",
    "   \n",
    "    whiskey_desc_mass = []\n",
    "    for e in class1:\n",
    "        whiskey_desc_mass.append(e.next_sibling)\n",
    "    \n",
    "    [''.join(whiskey_desc_mass) for w in whiskey_desc_mass]\n",
    "    \n",
    "    whiskey_desc.append(whiskey_desc_mass)\n",
    "    \n",
    "    \n",
    "    \n",
    "print(whiskey_desc[0])  "
   ]
  },
  {
   "cell_type": "code",
   "execution_count": 5,
   "id": "genetic-fraction",
   "metadata": {},
   "outputs": [
    {
     "ename": "NameError",
     "evalue": "name 'whiskey_urls' is not defined",
     "output_type": "error",
     "traceback": [
      "\u001b[0;31m---------------------------------------------------------------------------\u001b[0m",
      "\u001b[0;31mNameError\u001b[0m                                 Traceback (most recent call last)",
      "\u001b[0;32m<ipython-input-5-08eac12dfd74>\u001b[0m in \u001b[0;36m<module>\u001b[0;34m\u001b[0m\n\u001b[0;32m----> 1\u001b[0;31m \u001b[0mprint\u001b[0m\u001b[0;34m(\u001b[0m\u001b[0mwhiskey_urls\u001b[0m\u001b[0;34m[\u001b[0m\u001b[0;36m0\u001b[0m\u001b[0;34m]\u001b[0m\u001b[0;34m)\u001b[0m\u001b[0;34m\u001b[0m\u001b[0;34m\u001b[0m\u001b[0m\n\u001b[0m\u001b[1;32m      2\u001b[0m \u001b[0mprint\u001b[0m\u001b[0;34m(\u001b[0m\u001b[0mwhiskey_names\u001b[0m\u001b[0;34m[\u001b[0m\u001b[0;36m0\u001b[0m\u001b[0;34m]\u001b[0m\u001b[0;34m)\u001b[0m\u001b[0;34m\u001b[0m\u001b[0;34m\u001b[0m\u001b[0m\n",
      "\u001b[0;31mNameError\u001b[0m: name 'whiskey_urls' is not defined"
     ]
    }
   ],
   "source": [
    "print(whiskey_urls[0])\n",
    "print(whiskey_names[0])"
   ]
  },
  {
   "cell_type": "code",
   "execution_count": 6,
   "id": "mighty-sherman",
   "metadata": {},
   "outputs": [
    {
     "ename": "NameError",
     "evalue": "name 'whiskey_urls' is not defined",
     "output_type": "error",
     "traceback": [
      "\u001b[0;31m---------------------------------------------------------------------------\u001b[0m",
      "\u001b[0;31mNameError\u001b[0m                                 Traceback (most recent call last)",
      "\u001b[0;32m<ipython-input-6-254ba30c9af9>\u001b[0m in \u001b[0;36m<module>\u001b[0;34m\u001b[0m\n\u001b[0;32m----> 1\u001b[0;31m \u001b[0mURL0\u001b[0m \u001b[0;34m=\u001b[0m \u001b[0mwhiskey_urls\u001b[0m\u001b[0;34m[\u001b[0m\u001b[0;36m0\u001b[0m\u001b[0;34m]\u001b[0m\u001b[0;34m\u001b[0m\u001b[0;34m\u001b[0m\u001b[0m\n\u001b[0m\u001b[1;32m      2\u001b[0m \u001b[0;34m\u001b[0m\u001b[0m\n\u001b[1;32m      3\u001b[0m \u001b[0mpage0\u001b[0m \u001b[0;34m=\u001b[0m \u001b[0mrequests\u001b[0m\u001b[0;34m.\u001b[0m\u001b[0mget\u001b[0m\u001b[0;34m(\u001b[0m\u001b[0mURL0\u001b[0m\u001b[0;34m)\u001b[0m\u001b[0;34m\u001b[0m\u001b[0;34m\u001b[0m\u001b[0m\n\u001b[1;32m      4\u001b[0m \u001b[0;34m\u001b[0m\u001b[0m\n\u001b[1;32m      5\u001b[0m \u001b[0msoup0\u001b[0m \u001b[0;34m=\u001b[0m \u001b[0mBeautifulSoup\u001b[0m\u001b[0;34m(\u001b[0m\u001b[0mpage0\u001b[0m\u001b[0;34m.\u001b[0m\u001b[0mtext\u001b[0m\u001b[0;34m,\u001b[0m \u001b[0;34m'lxml'\u001b[0m\u001b[0;34m)\u001b[0m\u001b[0;34m\u001b[0m\u001b[0;34m\u001b[0m\u001b[0m\n",
      "\u001b[0;31mNameError\u001b[0m: name 'whiskey_urls' is not defined"
     ]
    }
   ],
   "source": [
    "URL0 = whiskey_urls[0]\n",
    "\n",
    "page0 = requests.get(URL0)\n",
    "\n",
    "soup0 = BeautifulSoup(page0.text, 'lxml')"
   ]
  },
  {
   "cell_type": "code",
   "execution_count": 71,
   "id": "dedicated-brain",
   "metadata": {},
   "outputs": [
    {
     "name": "stdout",
     "output_type": "stream",
     "text": [
      ": Grape juice and grape jam, on a bed of sweet corn and caramel. Quite sweet. After a rest in the glass, a tart top note – like cranberry – creeps in.\n",
      ": A tad hot for ~44%. \n",
      ": Short. Oaky, but not tannic. Echoes of sweet grape jam and semisweet chocolate. Fades quickly.\n",
      ": Water brings a little more nose tickle to the aroma, without revealing anything new. The palate is a little softer. I suggest adding a touch of water and then letting it rest in the glass for a few minutes to reawaken the aroma.\n",
      ": Not quite as supple and polished as \n"
     ]
    }
   ],
   "source": [
    "# Finds description of whiskey\n",
    "\n",
    "class0 = soup0.find('div', {'class' : 'entry-content'})\n",
    "class1 = class0.find_all('strong')\n",
    "class2 = class0.find_all('p')\n",
    "\n",
    "for e in class1:\n",
    "    print(e.next_sibling)"
   ]
  },
  {
   "cell_type": "code",
   "execution_count": 113,
   "id": "advisory-treasurer",
   "metadata": {},
   "outputs": [
    {
     "name": "stdout",
     "output_type": "stream",
     "text": [
      "[]\n"
     ]
    }
   ],
   "source": [
    "print(whiskey_desc)"
   ]
  },
  {
   "cell_type": "code",
   "execution_count": 132,
   "id": "private-burton",
   "metadata": {},
   "outputs": [
    {
     "name": "stdout",
     "output_type": "stream",
     "text": [
      "[': Grape juice and grape jam, on a bed of sweet corn and caramel. Quite sweet. After a rest in the glass, a tart top note – like cranberry – creeps in.', ': A tad hot for ~44%. ', ': Short. Oaky, but not tannic. Echoes of sweet grape jam and semisweet chocolate. Fades quickly.', ': Water brings a little more nose tickle to the aroma, without revealing anything new. The palate is a little softer. I suggest adding a touch of water and then letting it rest in the glass for a few minutes to reawaken the aroma.', ': Not quite as supple and polished as ']\n"
     ]
    }
   ],
   "source": [
    "whiskey_desc = []\n",
    "\n",
    "\n",
    "for r in range(1):\n",
    "    \n",
    "    URL0 = whiskey_urls[r]\n",
    "    \n",
    "    page0 = requests.get(URL0)\n",
    "\n",
    "    soup0 = BeautifulSoup(page0.text, 'lxml')\n",
    "    \n",
    "    # Finds description of whiskey\n",
    "    \n",
    "    # Builds temp array to join and append to whiskey_desc array\n",
    "    class0 = soup0.find('div', {'class' : 'entry-content'})\n",
    "    class1 = class0.find_all('strong')\n",
    "    \n",
    "   \n",
    "    whiskey_desc_mass = []\n",
    "    for e in class1:\n",
    "        whiskey_desc_mass.append(e.next_sibling)\n",
    "    \n",
    "    [''.join(whiskey_desc_mass) for w in whiskey_desc_mass]\n",
    "    \n",
    "    whiskey_desc.append(whiskey_desc_mass)\n",
    "    \n",
    "    \n",
    "    \n",
    "print(whiskey_desc[0])    \n",
    "\n",
    "\n"
   ]
  }
 ],
 "metadata": {
  "kernelspec": {
   "display_name": "Python 3",
   "language": "python",
   "name": "python3"
  },
  "language_info": {
   "codemirror_mode": {
    "name": "ipython",
    "version": 3
   },
   "file_extension": ".py",
   "mimetype": "text/x-python",
   "name": "python",
   "nbconvert_exporter": "python",
   "pygments_lexer": "ipython3",
   "version": "3.9.2"
  }
 },
 "nbformat": 4,
 "nbformat_minor": 5
}
