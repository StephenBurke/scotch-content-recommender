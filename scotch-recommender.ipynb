{
 "cells": [
  {
   "cell_type": "code",
   "execution_count": 1,
   "id": "prerequisite-military",
   "metadata": {},
   "outputs": [],
   "source": [
    "# move this down\n",
    "import pandas as pd\n",
    "from sklearn.feature_extraction.text import TfidfVectorizer\n",
    "from sklearn.metrics.pairwise import linear_kernel \n",
    "ds = pd.read_csv('scotch_review.csv')"
   ]
  },
  {
   "cell_type": "code",
   "execution_count": 2,
   "id": "rising-designer",
   "metadata": {},
   "outputs": [],
   "source": [
    "import requests\n",
    "from bs4 import BeautifulSoup\n",
    "import re\n",
    "import pickle"
   ]
  },
  {
   "cell_type": "code",
   "execution_count": 3,
   "id": "running-parcel",
   "metadata": {},
   "outputs": [],
   "source": [
    "URL0 = 'https://flaviar.com/bottles/scotch'\n",
    "\n",
    "page0 = requests.get(URL0)\n",
    "\n",
    "soup0 = BeautifulSoup(page0.text, 'lxml')"
   ]
  },
  {
   "cell_type": "code",
   "execution_count": 4,
   "id": "generic-colombia",
   "metadata": {},
   "outputs": [],
   "source": [
    "# scraps website for bottle edition\n",
    "\n",
    "bottle_names = []\n",
    "bottle_editions = []\n",
    "bottle_types = []\n",
    "\n",
    "\n",
    "\n",
    "class0 = soup0.find('div', {'id': 'content', 'class': 'overflow-hidden'})\n",
    "class1 = class0.find('div', {'class': 'fullWidth pattern-bg sand-bg-mobile padding-top-50 padding-top-mobile-40 padding-bottom-50'})\n",
    "class2 = class1.find('div', {'class': 'container'})\n",
    "class3 = class2.find('div', {'class': 'row'})\n",
    "class4 = class3.find('div', {'class': 'col-md-12'})\n",
    "class5 = class4.find('div', {'id': 'previousboxes', 'class': 'row margin-left-0 margin-right-0 padding-left-mobile-10 padding-right-mobile-10 bottles'})\n",
    "class6 = class5.find('div', {'class': 'row'})\n",
    "class7 = class6.find_all('div', {'class': 'col-lg-3 col-md-4 col-sm-6'})\n",
    "\n",
    "\n",
    "for i in class7:\n",
    "    class8 = i.find('a', {'class': 'single-item bottle'})    \n",
    "    class9 = class8.find('div', {'class': 'holder'})\n",
    "    class10 = class9.find('div', {'class': 'about flex flex--space-between'})\n",
    "    class11 = class10.find('div', {'class': 'desc'})\n",
    "    \n",
    "    bottle_name = class11.find('div', {'class': 'name'})\n",
    "    bottle_edition = class11.find('div', {'class': 'edition'})\n",
    "    bottle_type = class11.find('div', {'class': 'type'})\n",
    "    \n",
    "    bottle_names.append(bottle_name.text.replace(\"'\",\"\").replace(' ','-'))\n",
    "    bottle_editions.append(bottle_edition.text.replace(\"'\",\"\").replace(' ','-'))\n",
    "    bottle_types.append(bottle_type.text)\n",
    "    \n",
    "\n"
   ]
  },
  {
   "cell_type": "code",
   "execution_count": 5,
   "id": "composed-oklahoma",
   "metadata": {},
   "outputs": [],
   "source": [
    "# Creates url for all editions in selected bottle type(s)\n",
    "# Type choosen when URL0 is defined\n",
    "\n",
    "url_editions = []\n",
    "BOTTLE_COUNT = len(bottle_editions)\n",
    "for n in range(BOTTLE_COUNT):\n",
    "    url_editions.append((str('https://flaviar.com/' + bottle_names[n] + '/' + bottle_editions[n])))\n",
    "    "
   ]
  },
  {
   "cell_type": "code",
   "execution_count": 6,
   "id": "million-indication",
   "metadata": {},
   "outputs": [
    {
     "name": "stdout",
     "output_type": "stream",
     "text": [
      "['https://flaviar.com/The-Naked-Grouse/The-Naked-Grouse', 'https://flaviar.com/Chivas-Regal/Chivas-Regal-12-Year-Old', 'https://flaviar.com/Dewars/Dewars-White-Label', 'https://flaviar.com/Johnnie-Walker/Johnnie-Walker-Gold-Label-Reserve']\n"
     ]
    }
   ],
   "source": [
    "print(url_editions[:4])"
   ]
  },
  {
   "cell_type": "code",
   "execution_count": 21,
   "id": "specific-experiment",
   "metadata": {},
   "outputs": [
    {
     "name": "stdout",
     "output_type": "stream",
     "text": [
      "URL1 in url_editions: https://flaviar.com/The-Naked-Grouse/The-Naked-Grouse \n",
      "\n",
      "URL1 in profile_6: https://flaviar.com/The-Naked-Grouse/The-Naked-Grouse \n",
      "\n",
      "Amber\n",
      "URL1 in url_editions: https://flaviar.com/Chivas-Regal/Chivas-Regal-12-Year-Old \n",
      "\n",
      "URL1 in url_editions: https://flaviar.com/Dewars/Dewars-White-Label \n",
      "\n",
      "['Amber']\n",
      "['Smooth sherry aroma followed by notes of buttered toast, malt, peach and custard.']\n",
      "['Sherried palate with notes of toffee, sultanas, raspberry jam, custard and caramel.']\n",
      "['Medium finish with noes of oak and cocoa.']\n"
     ]
    }
   ],
   "source": [
    "\n",
    "appearances = []\n",
    "noses = []\n",
    "palates = []\n",
    "finishes = []\n",
    "c = 0\n",
    "\n",
    "for url in range(len(url_editions)):\n",
    "    \n",
    "    c+=1\n",
    "    if c == 4: break\n",
    "        \n",
    "    URL1 = url_editions[url]\n",
    "    \n",
    "    print('URL1 in url_editions:',URL1,'\\n')\n",
    "    \n",
    "    page1 = requests.get(URL1)\n",
    "\n",
    "    soup1 = BeautifulSoup(page1.text, 'lxml')\n",
    "    \n",
    "    \n",
    "    \n",
    "    \n",
    "    profile_class0 = soup1.find('div', {'id': 'content', 'class': 'overflow-hidden'})\n",
    "    profile_class1 = profile_class0.find('div', {'id': 'info', 'class': 'container'})\n",
    "    profile_class2 = profile_class1.find('div', {'class': 'row shrink flex flex--stretch margin-bottom-50 margin-bottom-mobile-0'})\n",
    "    profile_class3 = profile_class2.find('div', {'class': 'col-md-8 col-sm-12 col-xs-12 element info-description flex _flex-2 fit2EdgeOnMobile'})\n",
    "    profile_class4 = profile_class3.find('div', {'class': 'introduce pattern-bg equal moduleTabs collapsable-content-box'})\n",
    "    profile_class5 = profile_class4.find('div', {'id': 'tasting-notes','class': 'body collapse in more-body-padding'})\n",
    "    profile_class6 = profile_class5.find('div', {'class': 'p-content'})\n",
    "    \n",
    "    \n",
    "    #print(profile_class6)\n",
    "    \n",
    "    for p in profile_class6.find_all('div'):\n",
    "        #print(profile_class6.find_all('div'))\n",
    "        if (p.text == '\\nAppearance / Color'):\n",
    "          \n",
    "            print('URL1 in profile_6:',URL1,'\\n')\n",
    "            \n",
    "            appearances.append(str(profile_class6.div.next_sibling.next_sibling.text).strip('\\r\\n\\t'))\n",
    "            \n",
    "            \n",
    "            \n",
    "            print(str(profile_class6.div.next_sibling.next_sibling.text).strip('\\r\\n\\t'))\n",
    "\n",
    "        elif (p.text == '\\nNose / Aroma / Smell'):\n",
    "            noses.append(str(profile_class6.div.next_sibling.next_sibling.next_sibling.\n",
    "                             next_sibling.next_sibling.next_sibling.next_sibling.next_sibling.\n",
    "                             text).strip('\\r\\n\\t'))\n",
    "\n",
    "        elif (p.text == '\\nFlavor / Taste / Palate'):\n",
    "            palates.append(str(profile_class6.div.next_sibling.next_sibling.next_sibling.\n",
    "                               next_sibling.next_sibling.next_sibling.next_sibling.next_sibling.\n",
    "                               next_sibling.next_sibling.next_sibling.next_sibling.next_sibling.\n",
    "                               next_sibling.text).strip('\\r\\n\\t')) \n",
    "\n",
    "        elif (p.text == '\\nFinish'):\n",
    "            finishes.append(str(profile_class6.div.next_sibling.next_sibling.next_sibling.\n",
    "                                next_sibling.next_sibling.next_sibling.next_sibling.next_sibling.\n",
    "                                next_sibling.next_sibling.next_sibling.next_sibling.next_sibling.\n",
    "                                next_sibling.next_sibling.next_sibling.next_sibling.next_sibling.\n",
    "                                next_sibling.next_sibling.text).strip('\\r\\n\\t'))\n",
    "        \n",
    "\n",
    "print(appearances)\n",
    "print(noses)\n",
    "print(palates)\n",
    "print(finishes)\n",
    "    "
   ]
  },
  {
   "cell_type": "code",
   "execution_count": 47,
   "id": "hollow-master",
   "metadata": {},
   "outputs": [
    {
     "name": "stdout",
     "output_type": "stream",
     "text": [
      "['Spun Hay']\n",
      "['The aroma is fruit first with note of lemon zest, honey, peach, and grasses.']\n",
      "['The flavor profile is a classic, 1960’s-era Scotch profile with a bit of caramel laid over some smoky peat, wild honey, and oak.']\n",
      "['The finish is nicely long with lingering fresh herbs and lemon pith.\\n                    ']\n"
     ]
    }
   ],
   "source": [
    "appearances = []\n",
    "noses = []\n",
    "palates = []\n",
    "finishes = []\n",
    "\n",
    "URL1 = url_editions[2]\n",
    "\n",
    "page1 = requests.get(URL1)\n",
    "\n",
    "soup1 = BeautifulSoup(page1.text, 'lxml')\n",
    "\n",
    "\n",
    "\n",
    "\n",
    "profile_class0 = soup1.find('div', {'id': 'content', 'class': 'overflow-hidden'})\n",
    "profile_class1 = profile_class0.find('div', {'id': 'info', 'class': 'container'})\n",
    "profile_class2 = profile_class1.find('div', {'class': 'row shrink flex flex--stretch margin-bottom-50 margin-bottom-mobile-0'})\n",
    "profile_class3 = profile_class2.find('div', {'class': 'col-md-8 col-sm-12 col-xs-12 element info-description flex _flex-2 fit2EdgeOnMobile'})\n",
    "profile_class4 = profile_class3.find('div', {'class': 'introduce pattern-bg equal moduleTabs collapsable-content-box'})\n",
    "profile_class5 = profile_class4.find('div', {'id': 'tasting-notes','class': 'body collapse in more-body-padding'})\n",
    "profile_class6 = profile_class5.find('div', {'class': 'p-content'})\n",
    "\n",
    "\n",
    "appearances.append(str(profile_class6.find('br').next_sibling).strip('\\r\\n'))\n",
    "\n",
    "noses.append(str(profile_class6.find('br').next_sibling.next_sibling.next_sibling.next_sibling.\n",
    "      next_sibling.next_sibling.next_sibling.next_sibling).strip('\\r\\n'))\n",
    "\n",
    "palates.append(str(profile_class6.find('br').next_sibling.next_sibling.next_sibling.next_sibling.\n",
    "      next_sibling.next_sibling.next_sibling.next_sibling.next_sibling.next_sibling.next_sibling.\n",
    "      next_sibling.next_sibling.next_sibling.next_sibling).strip('\\r\\n'))\n",
    "\n",
    "finishes.append(str(profile_class6.find('br').next_sibling.next_sibling.next_sibling.next_sibling.\n",
    "      next_sibling.next_sibling.next_sibling.next_sibling.next_sibling.next_sibling.next_sibling.\n",
    "      next_sibling.next_sibling.next_sibling.next_sibling.next_sibling.next_sibling.next_sibling.\n",
    "      next_sibling.next_sibling.next_sibling.next_sibling).strip('\\r\\n'))\n",
    "\n",
    "\n",
    "\n",
    "\n",
    "\n",
    "print(appearances)\n",
    "print(noses)\n",
    "print(palates)\n",
    "print(finishes)"
   ]
  },
  {
   "cell_type": "code",
   "execution_count": 1,
   "id": "binding-insertion",
   "metadata": {},
   "outputs": [
    {
     "ename": "NameError",
     "evalue": "name 'pickle' is not defined",
     "output_type": "error",
     "traceback": [
      "\u001b[0;31m---------------------------------------------------------------------------\u001b[0m",
      "\u001b[0;31mNameError\u001b[0m                                 Traceback (most recent call last)",
      "\u001b[0;32m<ipython-input-1-c86e3183bdbc>\u001b[0m in \u001b[0;36m<module>\u001b[0;34m\u001b[0m\n\u001b[0;32m----> 1\u001b[0;31m \u001b[0mpickle\u001b[0m\u001b[0;34m.\u001b[0m\u001b[0mdump\u001b[0m\u001b[0;34m(\u001b[0m\u001b[0mprofile_class6\u001b[0m\u001b[0;34m.\u001b[0m\u001b[0mtext\u001b[0m\u001b[0;34m,\u001b[0m \u001b[0mopen\u001b[0m\u001b[0;34m(\u001b[0m \u001b[0;34m\"tasting-notes.p\"\u001b[0m\u001b[0;34m,\u001b[0m \u001b[0;34m\"wb\"\u001b[0m \u001b[0;34m)\u001b[0m\u001b[0;34m)\u001b[0m\u001b[0;34m\u001b[0m\u001b[0;34m\u001b[0m\u001b[0m\n\u001b[0m\u001b[1;32m      2\u001b[0m \u001b[0;31m#print(pickle.load(open( \"tasting-notes.p\", \"rb\" )))\u001b[0m\u001b[0;34m\u001b[0m\u001b[0;34m\u001b[0m\u001b[0;34m\u001b[0m\u001b[0m\n\u001b[1;32m      3\u001b[0m \u001b[0;34m\u001b[0m\u001b[0m\n\u001b[1;32m      4\u001b[0m \u001b[0;34m\u001b[0m\u001b[0m\n\u001b[1;32m      5\u001b[0m \u001b[0;34m\u001b[0m\u001b[0m\n",
      "\u001b[0;31mNameError\u001b[0m: name 'pickle' is not defined"
     ]
    }
   ],
   "source": [
    "pickle.dump(profile_class6.text, open( \"tasting-notes.p\", \"wb\" ))\n",
    "#print(pickle.load(open( \"tasting-notes.p\", \"rb\" )))\n",
    "\n",
    "\n",
    "\n",
    "pickle.dump(bottle_editions, open( \"bottle-editions.p\", \"wb\" ))\n",
    "#print(pickle.load(open( \"bottle-editions.p\", \"rb\" )))"
   ]
  },
  {
   "cell_type": "code",
   "execution_count": null,
   "id": "complicated-validation",
   "metadata": {},
   "outputs": [],
   "source": []
  }
 ],
 "metadata": {
  "kernelspec": {
   "display_name": "Python 3",
   "language": "python",
   "name": "python3"
  },
  "language_info": {
   "codemirror_mode": {
    "name": "ipython",
    "version": 3
   },
   "file_extension": ".py",
   "mimetype": "text/x-python",
   "name": "python",
   "nbconvert_exporter": "python",
   "pygments_lexer": "ipython3",
   "version": "3.9.2"
  }
 },
 "nbformat": 4,
 "nbformat_minor": 5
}
